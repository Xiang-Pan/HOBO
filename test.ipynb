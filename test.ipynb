{
 "cells": [
  {
   "cell_type": "code",
   "execution_count": 2,
   "metadata": {},
   "outputs": [],
   "source": [
    "import os\n",
    "import time\n",
    "#  \n",
    "import numpy as np\n",
    "import random\n",
    "from milvus import Milvus,MetricType, IndexType\n",
    "SERVER_ADDR = '127.0.0.1'\n",
    "SERVER_PORT = '19530'"
   ]
  },
  {
   "cell_type": "code",
   "execution_count": 5,
   "metadata": {},
   "outputs": [],
   "source": [
    "client = Milvus(host=SERVER_ADDR, port=SERVER_PORT)\n",
    "# create_milvus_collection(milvus)"
   ]
  },
  {
   "cell_type": "code",
   "execution_count": 6,
   "metadata": {},
   "outputs": [],
   "source": [
    "#  ➜ sudo docker run -d --name milvus_cpu_1.1.0 \\\n",
    "# -p 19530:19530 \\\n",
    "# -p 19121:19121 \\\n",
    "# -v /home/$USER/milvus/db:/var/lib/milvus/db \\\n",
    "# -v /home/$USER/milvus/conf:/var/lib/milvus/conf \\\n",
    "# -v /home/$USER/milvus/logs:/var/lib/milvus/logs \\\n",
    "# -v /home/$USER/milvus/wal:/var/lib/milvus/wal \\\n",
    "# milvusdb/milvus:1.1.0-cpu-d050721-5e559c"
   ]
  },
  {
   "cell_type": "code",
   "execution_count": 7,
   "metadata": {},
   "outputs": [
    {
     "data": {
      "text/plain": [
       "(Status(code=0, message='Show collections successfully!'),\n",
       " ['demo_film_tutorial', 'siftsmall'])"
      ]
     },
     "execution_count": 7,
     "metadata": {},
     "output_type": "execute_result"
    }
   ],
   "source": [
    "client.list_collections()"
   ]
  },
  {
   "cell_type": "code",
   "execution_count": 7,
   "metadata": {},
   "outputs": [
    {
     "data": {
      "text/plain": [
       "Status(code=0, message='Create collection successfully!')"
      ]
     },
     "execution_count": 7,
     "metadata": {},
     "output_type": "execute_result"
    }
   ],
   "source": [
    "collection_name = 'demo_film_tutorial'\n",
    "collection_param = {\n",
    "    \"collection_name\": collection_name,\n",
    "    \"dimension\": 8,\n",
    "    \"index_file_size\": 2048,\n",
    "    \"metric_type\": MetricType.L2\n",
    "}\n",
    "client.create_collection(collection_param)"
   ]
  },
  {
   "cell_type": "code",
   "execution_count": 7,
   "metadata": {},
   "outputs": [
    {
     "data": {
      "text/plain": [
       "(Status(code=0, message='Show collections successfully!'),\n",
       " ['demo_film_tutorial', 'siftsmall'])"
      ]
     },
     "execution_count": 7,
     "metadata": {},
     "output_type": "execute_result"
    }
   ],
   "source": [
    "client.list_collections()"
   ]
  },
  {
   "cell_type": "code",
   "execution_count": null,
   "metadata": {},
   "outputs": [],
   "source": [
    "client.list_partitions(collection_name)"
   ]
  },
  {
   "cell_type": "code",
   "execution_count": null,
   "metadata": {},
   "outputs": [],
   "source": [
    "client.create_partition(collection_name, \"films\")"
   ]
  },
  {
   "cell_type": "code",
   "execution_count": null,
   "metadata": {},
   "outputs": [],
   "source": [
    "import random"
   ]
  },
  {
   "cell_type": "code",
   "execution_count": null,
   "metadata": {},
   "outputs": [],
   "source": [
    "film_A = [random.random() for _ in range(8)]"
   ]
  },
  {
   "cell_type": "code",
   "execution_count": null,
   "metadata": {},
   "outputs": [],
   "source": [
    "film_A"
   ]
  },
  {
   "cell_type": "code",
   "execution_count": null,
   "metadata": {},
   "outputs": [],
   "source": [
    "entity_ids = [0, 1, 2]\n",
    "entities = [[random.random() for _ in range(8)] for _ in range(3)]\n",
    "status, ids = client.insert(collection_name, entities, entity_ids)"
   ]
  },
  {
   "cell_type": "code",
   "execution_count": null,
   "metadata": {},
   "outputs": [],
   "source": [
    "status, results = client.search(collection_name, 2, [film_A])"
   ]
  },
  {
   "cell_type": "code",
   "execution_count": null,
   "metadata": {},
   "outputs": [],
   "source": [
    "results"
   ]
  },
  {
   "cell_type": "code",
   "execution_count": null,
   "metadata": {},
   "outputs": [],
   "source": [
    "ids"
   ]
  },
  {
   "cell_type": "code",
   "execution_count": null,
   "metadata": {},
   "outputs": [],
   "source": [
    "client.create_index(collection_name, IndexType.FLAT)"
   ]
  },
  {
   "cell_type": "code",
   "execution_count": null,
   "metadata": {},
   "outputs": [],
   "source": [
    "query_vectors = film_A"
   ]
  },
  {
   "cell_type": "code",
   "execution_count": null,
   "metadata": {},
   "outputs": [],
   "source": [
    "query_vectors = [[1,2,3,4,5,6,7,8]]"
   ]
  },
  {
   "cell_type": "code",
   "execution_count": null,
   "metadata": {},
   "outputs": [],
   "source": [
    "# FLAT\n",
    "client.search(collection_name,1,query_vectors)"
   ]
  },
  {
   "cell_type": "code",
   "execution_count": null,
   "metadata": {},
   "outputs": [],
   "source": [
    "status, info = client.get_collection_info(collection_name)"
   ]
  },
  {
   "cell_type": "code",
   "execution_count": null,
   "metadata": {},
   "outputs": [],
   "source": [
    "info"
   ]
  },
  {
   "cell_type": "code",
   "execution_count": null,
   "metadata": {},
   "outputs": [],
   "source": [
    "status, results = client.search(collection_name, 2, [film_A])"
   ]
  },
  {
   "cell_type": "code",
   "execution_count": null,
   "metadata": {},
   "outputs": [],
   "source": [
    "status"
   ]
  },
  {
   "cell_type": "code",
   "execution_count": null,
   "metadata": {},
   "outputs": [],
   "source": [
    "results"
   ]
  },
  {
   "cell_type": "code",
   "execution_count": 8,
   "metadata": {},
   "outputs": [],
   "source": [
    "from bohb import *"
   ]
  },
  {
   "cell_type": "code",
   "execution_count": 9,
   "metadata": {},
   "outputs": [
    {
     "name": "stdout",
     "output_type": "stream",
     "text": [
      "s_max: 3\n",
      "s: 0\n",
      "Budget: 10\n",
      "Loss: 10.187714031754279\n",
      "Configuration:\n",
      "   Name: alpha | Value: 0.01\n",
      "   Name: beta  | Value: 3\n",
      "\n",
      "s: 1\n",
      "Budget: 3.333333333333333\n",
      "Loss: 7.111111111111111\n",
      "Configuration:\n",
      "   Name: alpha | Value: 0.1\n",
      "   Name: beta  | Value: 1\n",
      "\n",
      "Budget: 10.0\n",
      "Loss: 3.9289682539682547\n",
      "Configuration:\n",
      "   Name: alpha | Value: 0.1\n",
      "   Name: beta  | Value: 1\n",
      "\n",
      "s: 2\n",
      "Budget: 1.1111111111111112\n",
      "Loss: 11.0\n",
      "Configuration:\n",
      "   Name: alpha | Value: 0.01\n",
      "   Name: beta  | Value: 1\n",
      "\n",
      "Budget: 3.3333333333333335\n",
      "Loss: 7.111111111111111\n",
      "Configuration:\n",
      "   Name: alpha | Value: 0.1\n",
      "   Name: beta  | Value: 1\n",
      "\n",
      "Budget: 10.0\n",
      "Loss: 3.9289682539682547\n",
      "Configuration:\n",
      "   Name: alpha | Value: 0.1\n",
      "   Name: beta  | Value: 1\n",
      "\n",
      "Best Hyperparameter Configuration:\n",
      "Budget: 10.0\n",
      "Loss: 3.9289682539682547\n",
      "Configuration:\n",
      "   Name: alpha | Value: 0.1\n",
      "   Name: beta  | Value: 1\n",
      "\n"
     ]
    }
   ],
   "source": [
    "from bohb import BOHB\n",
    "import bohb.configspace as cs\n",
    "\n",
    "\n",
    "def objective(step, alpha, beta):\n",
    "    return 1 / (alpha * step + 0.1) + beta\n",
    "\n",
    "\n",
    "def evaluate(params, n_iterations):\n",
    "    loss = 0.0\n",
    "    for i in range(int(n_iterations)):\n",
    "        loss += objective(**params, step=i)\n",
    "    return loss/n_iterations\n",
    "\n",
    "\n",
    "alpha = cs.CategoricalHyperparameter('alpha', [0.001, 0.01, 0.1])\n",
    "beta = cs.CategoricalHyperparameter('beta', [1, 2, 3])\n",
    "configspace = cs.ConfigurationSpace([alpha, beta], seed=123)\n",
    "\n",
    "opt = BOHB(configspace, evaluate, max_budget=10, min_budget=1)\n",
    "logs = opt.optimize()\n",
    "print(logs)\n"
   ]
  },
  {
   "cell_type": "code",
   "execution_count": 12,
   "metadata": {
    "scrolled": true
   },
   "outputs": [
    {
     "name": "stdout",
     "output_type": "stream",
     "text": [
      "/home/xiangpan/Labs/HOBO\r\n"
     ]
    }
   ],
   "source": [
    "!pwd"
   ]
  },
  {
   "cell_type": "code",
   "execution_count": null,
   "metadata": {},
   "outputs": [],
   "source": []
  },
  {
   "cell_type": "code",
   "execution_count": 91,
   "metadata": {},
   "outputs": [],
   "source": [
    "import numpy as np\n",
    "fv = numpy.fromfile(\"./cached_datasets/siftsmall/siftsmall_base.fvecs\", dtype=\"int32\")\n",
    "dim = fv.view(numpy.int32)[0]\n",
    "new = fv.reshape(-1, dim + 1)[:,1:] # reshapes file\n",
    "f_new = new.view(numpy.float32)\n",
    "np.save(\"./cached_datasets/siftsmall_numpy/siftsmall_base\",f_new)"
   ]
  },
  {
   "cell_type": "code",
   "execution_count": 93,
   "metadata": {},
   "outputs": [
    {
     "data": {
      "text/plain": [
       "array([[ 0., 16., 35., ..., 25., 23.,  1.],\n",
       "       [14., 35., 19., ..., 11., 21., 33.],\n",
       "       [ 0.,  1.,  5., ...,  4., 23., 10.],\n",
       "       ...,\n",
       "       [48.,  1.,  0., ..., 22., 62., 18.],\n",
       "       [ 0.,  0.,  0., ...,  3.,  3., 11.],\n",
       "       [14.,  2.,  0., ...,  0.,  0.,  7.]], dtype=float32)"
      ]
     },
     "execution_count": 93,
     "metadata": {},
     "output_type": "execute_result"
    }
   ],
   "source": [
    "f_new"
   ]
  },
  {
   "cell_type": "code",
   "execution_count": 70,
   "metadata": {},
   "outputs": [],
   "source": [
    "import numpy as np\n",
    "fv = numpy.fromfile(\"./cached_datasets/siftsmall/siftsmall_groundtruth.ivecs\", dtype=\"int32\")\n",
    "# dim = fv.view(numpy.int32)[0]\n",
    "dim = 100\n",
    "f_new = fv.reshape(-1, dim + 1)[:,1:] # reshapes file\n",
    "# f_new = new.view(numpy.float32)\n",
    "np.save(\"./cached_datasets/siftsmall_numpy/siftsmall_groundtruth\",f_new)"
   ]
  },
  {
   "cell_type": "code",
   "execution_count": 60,
   "metadata": {},
   "outputs": [],
   "source": [
    "fv = numpy.fromfile(\"./cached_datasets/siftsmall/siftsmall_groundtruth.ivecs\", dtype=\"int32\")"
   ]
  },
  {
   "cell_type": "code",
   "execution_count": 71,
   "metadata": {},
   "outputs": [
    {
     "data": {
      "text/plain": [
       "array([[2176, 3752,  882, ...,  348, 3043, 3687],\n",
       "       [2781, 9574, 2492, ..., 3849, 2905, 4102],\n",
       "       [2707, 9938, 2698, ..., 1251, 8564, 8173],\n",
       "       ...,\n",
       "       [8825, 9081, 6142, ..., 8178, 5887, 4565],\n",
       "       [5460, 5439, 5810, ..., 5199, 7483, 5232],\n",
       "       [8082, 8782, 4767, ...,   11, 2482, 3631]], dtype=int32)"
      ]
     },
     "execution_count": 71,
     "metadata": {},
     "output_type": "execute_result"
    }
   ],
   "source": [
    "new"
   ]
  },
  {
   "cell_type": "code",
   "execution_count": 29,
   "metadata": {},
   "outputs": [],
   "source": [
    "import numpy as np\n",
    "fv = numpy.fromfile(\"./cached_datasets/siftsmall/siftsmall_learn.fvecs\", dtype=\"int32\")\n",
    "dim = fv.view(numpy.int32)[0]\n",
    "new = fv.reshape(-1, dim + 1)[:,1:] # reshapes file\n",
    "f_new = new.view(numpy.float32)\n",
    "np.save(\"./cached_datasets/siftsmall_numpy/siftsmall_learn\",f_new)"
   ]
  },
  {
   "cell_type": "code",
   "execution_count": 94,
   "metadata": {},
   "outputs": [],
   "source": [
    "import numpy as np\n",
    "fv = numpy.fromfile(\"./cached_datasets/siftsmall/siftsmall_query.fvecs\", dtype=\"int32\")\n",
    "dim = fv.view(numpy.int32)[0]\n",
    "new = fv.reshape(-1, dim + 1)[:,1:] # reshapes file\n",
    "f_new = new.view(numpy.float32)\n",
    "np.save(\"./cached_datasets/siftsmall_numpy/siftsmall_query\",f_new)"
   ]
  },
  {
   "cell_type": "code",
   "execution_count": 96,
   "metadata": {},
   "outputs": [
    {
     "data": {
      "text/plain": [
       "array([[ 1.,  3., 11., ..., 42., 48., 11.],\n",
       "       [40., 25., 11., ...,  3., 19., 13.],\n",
       "       [28.,  4.,  3., ...,  2., 54., 47.],\n",
       "       ...,\n",
       "       [14.,  8.,  0., ..., 32., 14., 15.],\n",
       "       [11., 48., 10., ...,  0.,  0.,  0.],\n",
       "       [ 4., 10.,  5., ..., 43.,  0.,  8.]], dtype=float32)"
      ]
     },
     "execution_count": 96,
     "metadata": {},
     "output_type": "execute_result"
    }
   ],
   "source": [
    "f_new"
   ]
  },
  {
   "cell_type": "code",
   "execution_count": 72,
   "metadata": {},
   "outputs": [
    {
     "ename": "NameError",
     "evalue": "name 'docker' is not defined",
     "output_type": "error",
     "traceback": [
      "\u001b[0;31m---------------------------------------------------------------------------\u001b[0m",
      "\u001b[0;31mNameError\u001b[0m                                 Traceback (most recent call last)",
      "\u001b[0;32m<ipython-input-72-9ee0b3f7e34f>\u001b[0m in \u001b[0;36m<module>\u001b[0;34m\u001b[0m\n\u001b[0;32m----> 1\u001b[0;31m \u001b[0mdocker\u001b[0m\u001b[0;34m\u001b[0m\u001b[0;34m\u001b[0m\u001b[0m\n\u001b[0m",
      "\u001b[0;31mNameError\u001b[0m: name 'docker' is not defined"
     ]
    }
   ],
   "source": [
    "docker"
   ]
  },
  {
   "cell_type": "markdown",
   "metadata": {},
   "source": [
    "# Connection"
   ]
  },
  {
   "cell_type": "code",
   "execution_count": 64,
   "metadata": {},
   "outputs": [],
   "source": [
    "import os\n",
    "import time\n",
    "#  \n",
    "import numpy as np\n",
    "import random\n",
    "from milvus import Milvus,MetricType, IndexType\n",
    "SERVER_ADDR = '127.0.0.1'\n",
    "SERVER_PORT = '19530'\n",
    "\n",
    "host = '127.0.0.1'\n",
    "port = '19530'\n",
    "client = Milvus(host, port)"
   ]
  },
  {
   "cell_type": "code",
   "execution_count": 65,
   "metadata": {},
   "outputs": [
    {
     "data": {
      "text/plain": [
       "Status(code=0, message='Create collection successfully!')"
      ]
     },
     "execution_count": 65,
     "metadata": {},
     "output_type": "execute_result"
    }
   ],
   "source": [
    "collection_name = 'siftsmall'\n",
    "collection_param = {\n",
    "    \"collection_name\": collection_name,\n",
    "    \"dimension\": 128,\n",
    "#     \"index_file_size\": 2048,\n",
    "    \"metric_type\": MetricType.L2\n",
    "}\n",
    "client.create_collection(collection_param)"
   ]
  },
  {
   "cell_type": "code",
   "execution_count": 66,
   "metadata": {},
   "outputs": [
    {
     "data": {
      "text/plain": [
       "(Status(code=0, message='Show collections successfully!'),\n",
       " ['demo_film_tutorial', 'siftsmall'])"
      ]
     },
     "execution_count": 66,
     "metadata": {},
     "output_type": "execute_result"
    }
   ],
   "source": [
    "client.list_collections()"
   ]
  },
  {
   "cell_type": "markdown",
   "metadata": {},
   "source": [
    "# insert base into db"
   ]
  },
  {
   "cell_type": "code",
   "execution_count": 67,
   "metadata": {},
   "outputs": [],
   "source": [
    "siftsmall_base = np.load(\"./cached_datasets/siftsmall_numpy/siftsmall_base.npy\")"
   ]
  },
  {
   "cell_type": "code",
   "execution_count": 68,
   "metadata": {},
   "outputs": [
    {
     "data": {
      "text/plain": [
       "(10000, 128)"
      ]
     },
     "execution_count": 68,
     "metadata": {},
     "output_type": "execute_result"
    }
   ],
   "source": [
    "siftsmall_base.shape"
   ]
  },
  {
   "cell_type": "code",
   "execution_count": 69,
   "metadata": {},
   "outputs": [],
   "source": [
    "entity_ids = [i for i in range(len(siftsmall_base))]\n",
    "entities = siftsmall_base\n",
    "collection_name = \"siftsmall\""
   ]
  },
  {
   "cell_type": "code",
   "execution_count": 70,
   "metadata": {},
   "outputs": [],
   "source": [
    "status, ids = client.insert(collection_name, entities, entity_ids)"
   ]
  },
  {
   "cell_type": "markdown",
   "metadata": {},
   "source": [
    "# index build"
   ]
  },
  {
   "cell_type": "code",
   "execution_count": 19,
   "metadata": {},
   "outputs": [
    {
     "data": {
      "text/plain": [
       "Status(code=0, message='Build index successfully!')"
      ]
     },
     "execution_count": 19,
     "metadata": {},
     "output_type": "execute_result"
    }
   ],
   "source": [
    "client.create_index(collection_name, IndexType.IVF_FLAT, {\"nlist\": 100})\n",
    "# int. 1~65536"
   ]
  },
  {
   "cell_type": "markdown",
   "metadata": {},
   "source": [
    "# search query"
   ]
  },
  {
   "cell_type": "markdown",
   "metadata": {},
   "source": [
    "## get_query "
   ]
  },
  {
   "cell_type": "code",
   "execution_count": 26,
   "metadata": {},
   "outputs": [],
   "source": [
    "siftsmall_query = np.load(\"./cached_datasets/siftsmall_numpy/siftsmall_query.npy\")\n",
    "query_vectors = siftsmall_query"
   ]
  },
  {
   "cell_type": "code",
   "execution_count": 27,
   "metadata": {},
   "outputs": [],
   "source": [
    "collection_name = 'siftsmall'\n",
    "statue, res = client.search(collection_name, top_k = 200, query_records = query_vectors, params={\"nprobe\": 1 })\n",
    "# int. 1~nlist(cpu), 1~min[2048, nlist](gpu)"
   ]
  },
  {
   "cell_type": "code",
   "execution_count": 15,
   "metadata": {},
   "outputs": [
    {
     "data": {
      "text/plain": [
       "[\n",
       " [ (id:2176, distance:76608.0),\n",
       "   (id:3752, distance:77004.0),\n",
       "   (id:882, distance:79702.0),\n",
       "   ...\n",
       "   (id:479, distance:138081.0) ]\n",
       "\n",
       " [ (id:3136, distance:70189.0),\n",
       "   (id:1038, distance:72748.0),\n",
       "   (id:3998, distance:76825.0),\n",
       "   ...\n",
       "   (id:3289, distance:135931.0) ]\n",
       "\n",
       " [ (id:2707, distance:42740.0),\n",
       "   (id:6801, distance:59501.0),\n",
       "   (id:5171, distance:71136.0),\n",
       "   ...\n",
       "   (id:6909, distance:159583.0) ]\n",
       "\n",
       "        ......\n",
       "            ......\n",
       "]"
      ]
     },
     "execution_count": 15,
     "metadata": {},
     "output_type": "execute_result"
    }
   ],
   "source": [
    "res"
   ]
  },
  {
   "cell_type": "markdown",
   "metadata": {},
   "source": [
    "## result_convert"
   ]
  },
  {
   "cell_type": "code",
   "execution_count": 266,
   "metadata": {},
   "outputs": [],
   "source": [
    "converted_res = np.zeros(res.shape)"
   ]
  },
  {
   "cell_type": "code",
   "execution_count": 267,
   "metadata": {},
   "outputs": [],
   "source": [
    "for i in range(len(res)):\n",
    "    for j in range(len(res[i])):\n",
    "#         print(i,j,res[i][j].id)\n",
    "        converted_res[i][j] = res[i][j].id"
   ]
  },
  {
   "cell_type": "markdown",
   "metadata": {},
   "source": [
    "## get_groundtruth"
   ]
  },
  {
   "cell_type": "code",
   "execution_count": 34,
   "metadata": {},
   "outputs": [
    {
     "data": {
      "text/plain": [
       "(100, 100)"
      ]
     },
     "execution_count": 34,
     "metadata": {},
     "output_type": "execute_result"
    }
   ],
   "source": [
    "siftsmall_groundtruth = np.load(\"./cached_datasets/siftsmall_numpy/siftsmall_groundtruth.npy\")\n",
    "siftsmall_groundtruth.shape\n",
    "# query_vectors = siftsmall_query"
   ]
  },
  {
   "cell_type": "code",
   "execution_count": 35,
   "metadata": {},
   "outputs": [
    {
     "ename": "NameError",
     "evalue": "name 'converted_res' is not defined",
     "output_type": "error",
     "traceback": [
      "\u001b[0;31m---------------------------------------------------------------------------\u001b[0m",
      "\u001b[0;31mNameError\u001b[0m                                 Traceback (most recent call last)",
      "\u001b[0;32m<ipython-input-35-d77e66b26545>\u001b[0m in \u001b[0;36m<module>\u001b[0;34m\u001b[0m\n\u001b[0;32m----> 1\u001b[0;31m \u001b[0mconverted_res\u001b[0m\u001b[0;34m.\u001b[0m\u001b[0mshape\u001b[0m\u001b[0;34m\u001b[0m\u001b[0;34m\u001b[0m\u001b[0m\n\u001b[0m",
      "\u001b[0;31mNameError\u001b[0m: name 'converted_res' is not defined"
     ]
    }
   ],
   "source": [
    "converted_res.shape"
   ]
  },
  {
   "cell_type": "markdown",
   "metadata": {},
   "source": [
    "# recall"
   ]
  },
  {
   "cell_type": "code",
   "execution_count": 281,
   "metadata": {},
   "outputs": [],
   "source": []
  },
  {
   "cell_type": "code",
   "execution_count": 254,
   "metadata": {},
   "outputs": [
    {
     "data": {
      "text/plain": [
       "tensor(1.)"
      ]
     },
     "execution_count": 254,
     "metadata": {},
     "output_type": "execute_result"
    }
   ],
   "source": [
    "from torchmetrics import RetrievalRecall\n",
    "# import torch.tensor as tensor\n",
    "indexes = torch.tensor([0, 0, 0, 1, 1, 1, 1])\n",
    "preds = torch.tensor([0.2, 0.3, 0.5, 0.1, 0.3, 0.5, 0.2])\n",
    "target = torch.tensor([False, False, True, False, True, False, True])\n",
    "r2 = RetrievalRecall(k=100)\n",
    "r2(preds, target, indexes=indexes)\n"
   ]
  },
  {
   "cell_type": "code",
   "execution_count": 270,
   "metadata": {},
   "outputs": [],
   "source": [
    "preds = converted_res"
   ]
  },
  {
   "cell_type": "code",
   "execution_count": 271,
   "metadata": {},
   "outputs": [],
   "source": [
    "target = siftsmall_groundtruth"
   ]
  },
  {
   "cell_type": "code",
   "execution_count": 272,
   "metadata": {},
   "outputs": [
    {
     "data": {
      "text/plain": [
       "array([[2176., 3752.,  882., ..., 1699.,  270.,  479.],\n",
       "       [3136., 1038., 3998., ..., 1401., 6138., 3289.],\n",
       "       [2707., 6801., 5171., ..., 6065., 2876., 6909.],\n",
       "       ...,\n",
       "       [6142., 6234., 7467., ...,    0.,    0.,    0.],\n",
       "       [5460., 5439., 5810., ..., 7876., 6354., 5360.],\n",
       "       [8082., 8782., 4767., ...,    0.,    0.,    0.]])"
      ]
     },
     "execution_count": 272,
     "metadata": {},
     "output_type": "execute_result"
    }
   ],
   "source": [
    "preds"
   ]
  },
  {
   "cell_type": "code",
   "execution_count": 28,
   "metadata": {},
   "outputs": [
    {
     "ename": "NameError",
     "evalue": "name 'self' is not defined",
     "output_type": "error",
     "traceback": [
      "\u001b[0;31m---------------------------------------------------------------------------\u001b[0m",
      "\u001b[0;31mNameError\u001b[0m                                 Traceback (most recent call last)",
      "\u001b[0;32m<ipython-input-28-b8d9a36f92aa>\u001b[0m in \u001b[0;36m<module>\u001b[0;34m\u001b[0m\n\u001b[0;32m----> 1\u001b[0;31m \u001b[0;32mclass\u001b[0m \u001b[0mIVF_FLAT_build_config\u001b[0m\u001b[0;34m(\u001b[0m\u001b[0mobject\u001b[0m\u001b[0;34m)\u001b[0m\u001b[0;34m:\u001b[0m\u001b[0;34m\u001b[0m\u001b[0;34m\u001b[0m\u001b[0m\n\u001b[0m\u001b[1;32m      2\u001b[0m     \u001b[0mself\u001b[0m\u001b[0;34m.\u001b[0m\u001b[0mnlist\u001b[0m  \u001b[0;34m=\u001b[0m \u001b[0;36m2048\u001b[0m\u001b[0;34m\u001b[0m\u001b[0;34m\u001b[0m\u001b[0m\n",
      "\u001b[0;32m<ipython-input-28-b8d9a36f92aa>\u001b[0m in \u001b[0;36mIVF_FLAT_build_config\u001b[0;34m()\u001b[0m\n\u001b[1;32m      1\u001b[0m \u001b[0;32mclass\u001b[0m \u001b[0mIVF_FLAT_build_config\u001b[0m\u001b[0;34m(\u001b[0m\u001b[0mobject\u001b[0m\u001b[0;34m)\u001b[0m\u001b[0;34m:\u001b[0m\u001b[0;34m\u001b[0m\u001b[0;34m\u001b[0m\u001b[0m\n\u001b[0;32m----> 2\u001b[0;31m     \u001b[0mself\u001b[0m\u001b[0;34m.\u001b[0m\u001b[0mnlist\u001b[0m  \u001b[0;34m=\u001b[0m \u001b[0;36m2048\u001b[0m\u001b[0;34m\u001b[0m\u001b[0;34m\u001b[0m\u001b[0m\n\u001b[0m",
      "\u001b[0;31mNameError\u001b[0m: name 'self' is not defined"
     ]
    }
   ],
   "source": [
    "class IVF_FLAT_build_config(object):\n",
    "    nlist  = 2048"
   ]
  },
  {
   "cell_type": "code",
   "execution_count": 26,
   "metadata": {},
   "outputs": [],
   "source": [
    "import json\n",
    "a = IVF_FLAT_build_config()"
   ]
  },
  {
   "cell_type": "code",
   "execution_count": 27,
   "metadata": {},
   "outputs": [
    {
     "data": {
      "text/plain": [
       "'{\"nlist\": 2048}'"
      ]
     },
     "execution_count": 27,
     "metadata": {},
     "output_type": "execute_result"
    }
   ],
   "source": [
    "json.dumps(a.__dict__)"
   ]
  },
  {
   "cell_type": "code",
   "execution_count": 24,
   "metadata": {},
   "outputs": [
    {
     "data": {
      "text/plain": [
       "2048"
      ]
     },
     "execution_count": 24,
     "metadata": {},
     "output_type": "execute_result"
    }
   ],
   "source": [
    "a = IVF_PQ_build_config()\n",
    "a.nlist"
   ]
  },
  {
   "cell_type": "code",
   "execution_count": 23,
   "metadata": {},
   "outputs": [
    {
     "data": {
      "text/plain": [
       "<__main__.IVF_PQ_build_config at 0x7fbbccf213a0>"
      ]
     },
     "execution_count": 23,
     "metadata": {},
     "output_type": "execute_result"
    }
   ],
   "source": [
    "a"
   ]
  },
  {
   "cell_type": "code",
   "execution_count": 1,
   "metadata": {},
   "outputs": [],
   "source": [
    "gDataDim = 512"
   ]
  },
  {
   "cell_type": "code",
   "execution_count": 11,
   "metadata": {},
   "outputs": [],
   "source": [
    "a = [i for i in range(1,16) if 512%i == 0]"
   ]
  },
  {
   "cell_type": "code",
   "execution_count": 12,
   "metadata": {},
   "outputs": [
    {
     "data": {
      "text/plain": [
       "[1, 2, 4, 8]"
      ]
     },
     "execution_count": 12,
     "metadata": {},
     "output_type": "execute_result"
    }
   ],
   "source": [
    "a"
   ]
  },
  {
   "cell_type": "code",
   "execution_count": 2,
   "metadata": {},
   "outputs": [
    {
     "name": "stderr",
     "output_type": "stream",
     "text": [
      "\u001b[34m\u001b[1mwandb\u001b[0m: Currently logged in as: \u001b[33mxiang-pan\u001b[0m (use `wandb login --relogin` to force relogin)\n",
      "\u001b[34m\u001b[1mwandb\u001b[0m: wandb version 0.11.1 is available!  To upgrade, please run:\n",
      "\u001b[34m\u001b[1mwandb\u001b[0m:  $ pip install wandb --upgrade\n"
     ]
    },
    {
     "data": {
      "text/html": [
       "\n",
       "                Tracking run with wandb version 0.10.33<br/>\n",
       "                Syncing run <strong style=\"color:#cdcd00\">wise-wood-36</strong> to <a href=\"https://wandb.ai\" target=\"_blank\">Weights & Biases</a> <a href=\"https://docs.wandb.com/integrations/jupyter.html\" target=\"_blank\">(Documentation)</a>.<br/>\n",
       "                Project page: <a href=\"https://wandb.ai/xiang-pan/HOBO\" target=\"_blank\">https://wandb.ai/xiang-pan/HOBO</a><br/>\n",
       "                Run page: <a href=\"https://wandb.ai/xiang-pan/HOBO/runs/1m77ccyj\" target=\"_blank\">https://wandb.ai/xiang-pan/HOBO/runs/1m77ccyj</a><br/>\n",
       "                Run data is saved locally in <code>/home/xiangpan/Labs/HOBO/wandb/run-20210729_171614-1m77ccyj</code><br/><br/>\n",
       "            "
      ],
      "text/plain": [
       "<IPython.core.display.HTML object>"
      ]
     },
     "metadata": {},
     "output_type": "display_data"
    }
   ],
   "source": [
    "import wandb\n",
    "run = wandb.init()"
   ]
  },
  {
   "cell_type": "code",
   "execution_count": 3,
   "metadata": {},
   "outputs": [],
   "source": [
    "gTestTable = wandb.Table(columns = [\"index_type\", \"query_per_sec\", \"accuracy\"])"
   ]
  },
  {
   "cell_type": "code",
   "execution_count": 20,
   "metadata": {},
   "outputs": [],
   "source": [
    "d = {i:0 for i in gTestTable.columns}"
   ]
  },
  {
   "cell_type": "code",
   "execution_count": 21,
   "metadata": {},
   "outputs": [],
   "source": [
    "parmas = dict()"
   ]
  },
  {
   "cell_type": "code",
   "execution_count": 22,
   "metadata": {},
   "outputs": [],
   "source": [
    "parmas[\"index_type\"] = 1"
   ]
  },
  {
   "cell_type": "code",
   "execution_count": 23,
   "metadata": {},
   "outputs": [],
   "source": [
    "parmas[\"query_per_sec\"] = 1"
   ]
  },
  {
   "cell_type": "code",
   "execution_count": 24,
   "metadata": {},
   "outputs": [],
   "source": [
    "for k,v in parmas.items():\n",
    "    d[k] = v"
   ]
  },
  {
   "cell_type": "code",
   "execution_count": 45,
   "metadata": {},
   "outputs": [
    {
     "data": {
      "text/plain": [
       "['index_type', 'query_per_sec', 'accuracy', 'sss']"
      ]
     },
     "execution_count": 45,
     "metadata": {},
     "output_type": "execute_result"
    }
   ],
   "source": [
    "list(d.keys())"
   ]
  },
  {
   "cell_type": "code",
   "execution_count": 42,
   "metadata": {},
   "outputs": [],
   "source": [
    "d[\"sss\"] = 1"
   ]
  },
  {
   "cell_type": "code",
   "execution_count": 41,
   "metadata": {},
   "outputs": [
    {
     "ename": "AssertionError",
     "evalue": "",
     "output_type": "error",
     "traceback": [
      "\u001b[0;31m---------------------------------------------------------------------------\u001b[0m",
      "\u001b[0;31mAssertionError\u001b[0m                            Traceback (most recent call last)",
      "\u001b[0;32m<ipython-input-41-74d872dd8f59>\u001b[0m in \u001b[0;36m<module>\u001b[0;34m\u001b[0m\n\u001b[1;32m      1\u001b[0m \u001b[0;32mfor\u001b[0m \u001b[0mk\u001b[0m\u001b[0;34m,\u001b[0m\u001b[0mv\u001b[0m \u001b[0;32min\u001b[0m \u001b[0md\u001b[0m\u001b[0;34m.\u001b[0m\u001b[0mitems\u001b[0m\u001b[0;34m(\u001b[0m\u001b[0;34m)\u001b[0m\u001b[0;34m:\u001b[0m\u001b[0;34m\u001b[0m\u001b[0;34m\u001b[0m\u001b[0m\n\u001b[1;32m      2\u001b[0m     \u001b[0;32mif\u001b[0m \u001b[0mk\u001b[0m \u001b[0;32mnot\u001b[0m \u001b[0;32min\u001b[0m \u001b[0mgTestTable\u001b[0m\u001b[0;34m.\u001b[0m\u001b[0mcolumns\u001b[0m\u001b[0;34m:\u001b[0m\u001b[0;34m\u001b[0m\u001b[0;34m\u001b[0m\u001b[0m\n\u001b[0;32m----> 3\u001b[0;31m         \u001b[0mgTestTable\u001b[0m\u001b[0;34m.\u001b[0m\u001b[0madd_column\u001b[0m\u001b[0;34m(\u001b[0m\u001b[0mname\u001b[0m \u001b[0;34m=\u001b[0m \u001b[0mk\u001b[0m\u001b[0;34m,\u001b[0m \u001b[0mdata\u001b[0m \u001b[0;34m=\u001b[0m \u001b[0;36m0\u001b[0m\u001b[0;34m)\u001b[0m\u001b[0;34m\u001b[0m\u001b[0;34m\u001b[0m\u001b[0m\n\u001b[0m",
      "\u001b[0;32m~/.conda/envs/pl/lib/python3.8/site-packages/wandb/data_types.py\u001b[0m in \u001b[0;36madd_column\u001b[0;34m(self, name, data, optional)\u001b[0m\n\u001b[1;32m    708\u001b[0m             \u001b[0mname\u001b[0m\u001b[0;34m:\u001b[0m \u001b[0;34m(\u001b[0m\u001b[0mstr\u001b[0m\u001b[0;34m)\u001b[0m \u001b[0;34m-\u001b[0m \u001b[0mthe\u001b[0m \u001b[0munique\u001b[0m \u001b[0mname\u001b[0m \u001b[0mof\u001b[0m \u001b[0mthe\u001b[0m \u001b[0mcolumn\u001b[0m\u001b[0;34m\u001b[0m\u001b[0;34m\u001b[0m\u001b[0m\n\u001b[1;32m    709\u001b[0m             \u001b[0mdata\u001b[0m\u001b[0;34m:\u001b[0m \u001b[0;34m(\u001b[0m\u001b[0mlist\u001b[0m \u001b[0;34m|\u001b[0m \u001b[0mnp\u001b[0m\u001b[0;34m.\u001b[0m\u001b[0marray\u001b[0m\u001b[0;34m)\u001b[0m \u001b[0;34m-\u001b[0m \u001b[0ma\u001b[0m \u001b[0mcolumn\u001b[0m \u001b[0mof\u001b[0m \u001b[0mhomogenous\u001b[0m \u001b[0mdata\u001b[0m\u001b[0;34m\u001b[0m\u001b[0;34m\u001b[0m\u001b[0m\n\u001b[0;32m--> 710\u001b[0;31m             \u001b[0moptional\u001b[0m\u001b[0;34m:\u001b[0m \u001b[0;34m(\u001b[0m\u001b[0mbool\u001b[0m\u001b[0;34m)\u001b[0m \u001b[0;34m-\u001b[0m \u001b[0;32mif\u001b[0m \u001b[0mnull\u001b[0m\u001b[0;34m-\u001b[0m\u001b[0mlike\u001b[0m \u001b[0mvalues\u001b[0m \u001b[0mare\u001b[0m \u001b[0mpermitted\u001b[0m\u001b[0;34m\u001b[0m\u001b[0;34m\u001b[0m\u001b[0m\n\u001b[0m\u001b[1;32m    711\u001b[0m         \"\"\"\n\u001b[1;32m    712\u001b[0m         \u001b[0;32massert\u001b[0m \u001b[0misinstance\u001b[0m\u001b[0;34m(\u001b[0m\u001b[0mname\u001b[0m\u001b[0;34m,\u001b[0m \u001b[0mstr\u001b[0m\u001b[0;34m)\u001b[0m \u001b[0;32mand\u001b[0m \u001b[0mname\u001b[0m \u001b[0;32mnot\u001b[0m \u001b[0;32min\u001b[0m \u001b[0mself\u001b[0m\u001b[0;34m.\u001b[0m\u001b[0mcolumns\u001b[0m\u001b[0;34m\u001b[0m\u001b[0;34m\u001b[0m\u001b[0m\n",
      "\u001b[0;31mAssertionError\u001b[0m: "
     ]
    }
   ],
   "source": [
    "for k,v in d.items():\n",
    "    if k not in gTestTable.columns:\n",
    "        gTestTable.add_column(name = k, data = 0)"
   ]
  },
  {
   "cell_type": "code",
   "execution_count": 30,
   "metadata": {},
   "outputs": [
    {
     "ename": "ValueError",
     "evalue": "This table expects 3 columns: ['index_type', 'query_per_sec', 'accuracy'], found 1",
     "output_type": "error",
     "traceback": [
      "\u001b[0;31m---------------------------------------------------------------------------\u001b[0m",
      "\u001b[0;31mValueError\u001b[0m                                Traceback (most recent call last)",
      "\u001b[0;32m<ipython-input-30-c9c0b356285a>\u001b[0m in \u001b[0;36m<module>\u001b[0;34m\u001b[0m\n\u001b[0;32m----> 1\u001b[0;31m \u001b[0mgTestTable\u001b[0m\u001b[0;34m.\u001b[0m\u001b[0madd_data\u001b[0m\u001b[0;34m(\u001b[0m\u001b[0;34m[\u001b[0m\u001b[0;36m1\u001b[0m\u001b[0;34m,\u001b[0m\u001b[0;36m1\u001b[0m\u001b[0;34m,\u001b[0m\u001b[0;36m0\u001b[0m\u001b[0;34m,\u001b[0m\u001b[0;36m1\u001b[0m\u001b[0;34m]\u001b[0m\u001b[0;34m)\u001b[0m\u001b[0;34m\u001b[0m\u001b[0;34m\u001b[0m\u001b[0m\n\u001b[0m",
      "\u001b[0;32m~/.conda/envs/pl/lib/python3.8/site-packages/wandb/data_types.py\u001b[0m in \u001b[0;36madd_data\u001b[0;34m(self, *data)\u001b[0m\n\u001b[1;32m    386\u001b[0m         \u001b[0;34m\"\"\"Add a row of data to the table. Argument length should match column length\"\"\"\u001b[0m\u001b[0;34m\u001b[0m\u001b[0;34m\u001b[0m\u001b[0m\n\u001b[1;32m    387\u001b[0m         \u001b[0;32mif\u001b[0m \u001b[0mlen\u001b[0m\u001b[0;34m(\u001b[0m\u001b[0mdata\u001b[0m\u001b[0;34m)\u001b[0m \u001b[0;34m!=\u001b[0m \u001b[0mlen\u001b[0m\u001b[0;34m(\u001b[0m\u001b[0mself\u001b[0m\u001b[0;34m.\u001b[0m\u001b[0mcolumns\u001b[0m\u001b[0;34m)\u001b[0m\u001b[0;34m:\u001b[0m\u001b[0;34m\u001b[0m\u001b[0;34m\u001b[0m\u001b[0m\n\u001b[0;32m--> 388\u001b[0;31m             raise ValueError(\n\u001b[0m\u001b[1;32m    389\u001b[0m                 \"This table expects {} columns: {}, found {}\".format(\n\u001b[1;32m    390\u001b[0m                     \u001b[0mlen\u001b[0m\u001b[0;34m(\u001b[0m\u001b[0mself\u001b[0m\u001b[0;34m.\u001b[0m\u001b[0mcolumns\u001b[0m\u001b[0;34m)\u001b[0m\u001b[0;34m,\u001b[0m \u001b[0mself\u001b[0m\u001b[0;34m.\u001b[0m\u001b[0mcolumns\u001b[0m\u001b[0;34m,\u001b[0m \u001b[0mlen\u001b[0m\u001b[0;34m(\u001b[0m\u001b[0mdata\u001b[0m\u001b[0;34m)\u001b[0m\u001b[0;34m\u001b[0m\u001b[0;34m\u001b[0m\u001b[0m\n",
      "\u001b[0;31mValueError\u001b[0m: This table expects 3 columns: ['index_type', 'query_per_sec', 'accuracy'], found 1"
     ]
    }
   ],
   "source": [
    "gTestTable.add_data([1,1,0,1])"
   ]
  },
  {
   "cell_type": "code",
   "execution_count": 39,
   "metadata": {},
   "outputs": [
    {
     "data": {
      "text/plain": [
       "['index_type', 'query_per_sec', 'accuracy']"
      ]
     },
     "execution_count": 39,
     "metadata": {},
     "output_type": "execute_result"
    }
   ],
   "source": [
    "gTestTable.columns"
   ]
  },
  {
   "cell_type": "code",
   "execution_count": 7,
   "metadata": {},
   "outputs": [
    {
     "data": {
      "text/html": [
       "Finishing last run (ID:2t4dr4sh) before initializing another..."
      ],
      "text/plain": [
       "<IPython.core.display.HTML object>"
      ]
     },
     "metadata": {},
     "output_type": "display_data"
    },
    {
     "data": {
      "text/html": [
       "<br/>Waiting for W&B process to finish, PID 440784<br/>Program ended successfully."
      ],
      "text/plain": [
       "<IPython.core.display.HTML object>"
      ]
     },
     "metadata": {},
     "output_type": "display_data"
    },
    {
     "data": {
      "application/vnd.jupyter.widget-view+json": {
       "model_id": "",
       "version_major": 2,
       "version_minor": 0
      },
      "text/plain": [
       "VBox(children=(Label(value=' 0.00MB of 0.00MB uploaded (0.00MB deduped)\\r'), FloatProgress(value=1.0, max=1.0)…"
      ]
     },
     "metadata": {},
     "output_type": "display_data"
    },
    {
     "data": {
      "text/html": [
       "Find user logs for this run at: <code>/home/xiangpan/Labs/HOBO/wandb/run-20210729_175014-2t4dr4sh/logs/debug.log</code>"
      ],
      "text/plain": [
       "<IPython.core.display.HTML object>"
      ]
     },
     "metadata": {},
     "output_type": "display_data"
    },
    {
     "data": {
      "text/html": [
       "Find internal logs for this run at: <code>/home/xiangpan/Labs/HOBO/wandb/run-20210729_175014-2t4dr4sh/logs/debug-internal.log</code>"
      ],
      "text/plain": [
       "<IPython.core.display.HTML object>"
      ]
     },
     "metadata": {},
     "output_type": "display_data"
    },
    {
     "data": {
      "text/html": [
       "<h3>Run summary:</h3><br/><style>\n",
       "    table.wandb td:nth-child(1) { padding: 0 10px; text-align: right }\n",
       "    </style><table class=\"wandb\">\n",
       "<tr><td>_runtime</td><td>49</td></tr><tr><td>_timestamp</td><td>1627595463</td></tr><tr><td>_step</td><td>2</td></tr></table>"
      ],
      "text/plain": [
       "<IPython.core.display.HTML object>"
      ]
     },
     "metadata": {},
     "output_type": "display_data"
    },
    {
     "data": {
      "text/html": [
       "<h3>Run history:</h3><br/><style>\n",
       "    table.wandb td:nth-child(1) { padding: 0 10px; text-align: right }\n",
       "    </style><table class=\"wandb\">\n",
       "<tr><td>_runtime</td><td>▁▄█</td></tr><tr><td>_timestamp</td><td>▁▄█</td></tr><tr><td>_step</td><td>▁▅█</td></tr></table><br/>"
      ],
      "text/plain": [
       "<IPython.core.display.HTML object>"
      ]
     },
     "metadata": {},
     "output_type": "display_data"
    },
    {
     "data": {
      "text/html": [
       "Synced 5 W&B file(s), 1 media file(s), 1 artifact file(s) and 0 other file(s)"
      ],
      "text/plain": [
       "<IPython.core.display.HTML object>"
      ]
     },
     "metadata": {},
     "output_type": "display_data"
    },
    {
     "data": {
      "text/html": [
       "\n",
       "                    <br/>Synced <strong style=\"color:#cdcd00\">robust-pine-47</strong>: <a href=\"https://wandb.ai/xiang-pan/HOBO/runs/2t4dr4sh\" target=\"_blank\">https://wandb.ai/xiang-pan/HOBO/runs/2t4dr4sh</a><br/>\n",
       "                "
      ],
      "text/plain": [
       "<IPython.core.display.HTML object>"
      ]
     },
     "metadata": {},
     "output_type": "display_data"
    },
    {
     "data": {
      "text/html": [
       "...Successfully finished last run (ID:2t4dr4sh). Initializing new run:<br/><br/>"
      ],
      "text/plain": [
       "<IPython.core.display.HTML object>"
      ]
     },
     "metadata": {},
     "output_type": "display_data"
    },
    {
     "data": {
      "text/html": [
       "\n",
       "                Tracking run with wandb version 0.11.1<br/>\n",
       "                Syncing run <strong style=\"color:#cdcd00\">still-plasma-48</strong> to <a href=\"https://wandb.ai\" target=\"_blank\">Weights & Biases</a> <a href=\"https://docs.wandb.com/integrations/jupyter.html\" target=\"_blank\">(Documentation)</a>.<br/>\n",
       "                Project page: <a href=\"https://wandb.ai/xiang-pan/HOBO\" target=\"_blank\">https://wandb.ai/xiang-pan/HOBO</a><br/>\n",
       "                Run page: <a href=\"https://wandb.ai/xiang-pan/HOBO/runs/1n1ep2d8\" target=\"_blank\">https://wandb.ai/xiang-pan/HOBO/runs/1n1ep2d8</a><br/>\n",
       "                Run data is saved locally in <code>/home/xiangpan/Labs/HOBO/wandb/run-20210729_175128-1n1ep2d8</code><br/><br/>\n",
       "            "
      ],
      "text/plain": [
       "<IPython.core.display.HTML object>"
      ]
     },
     "metadata": {},
     "output_type": "display_data"
    }
   ],
   "source": [
    "import wandb\n",
    "run = wandb.init()\n",
    "my_table = wandb.Table(columns=[\"a\", \"b\"], data=[[\"1a\", \"1b\"], [\"2a\", \"2b\"]])\n",
    "# run.log({\"table_key\": my_table})"
   ]
  },
  {
   "cell_type": "code",
   "execution_count": 8,
   "metadata": {},
   "outputs": [],
   "source": [
    "my_table = wandb.Table(columns=[\"a\", \"b\"], data=[[\"1a\", \"1b\"], [\"2a\", \"2b\"]])\n",
    "my_table.add_data(\"c\",\"d\")\n",
    "run.log({\"table_key\": my_table})"
   ]
  },
  {
   "cell_type": "code",
   "execution_count": 1,
   "metadata": {},
   "outputs": [],
   "source": [
    "from milvus import *"
   ]
  },
  {
   "cell_type": "code",
   "execution_count": 30,
   "metadata": {},
   "outputs": [],
   "source": [
    "collection_name = \"siftsmall\"\n",
    "status, stats = client. get_index_info(collection_name)"
   ]
  },
  {
   "cell_type": "code",
   "execution_count": 34,
   "metadata": {},
   "outputs": [
    {
     "data": {
      "text/plain": [
       "<IndexType: IVF_FLAT>"
      ]
     },
     "execution_count": 34,
     "metadata": {},
     "output_type": "execute_result"
    }
   ],
   "source": [
    "stats._index_type"
   ]
  },
  {
   "cell_type": "code",
   "execution_count": 36,
   "metadata": {},
   "outputs": [
    {
     "data": {
      "text/plain": [
       "{'nlist': 2048}"
      ]
     },
     "execution_count": 36,
     "metadata": {},
     "output_type": "execute_result"
    }
   ],
   "source": [
    "stats._params"
   ]
  },
  {
   "cell_type": "markdown",
   "metadata": {},
   "source": [
    "# Generate LIST"
   ]
  },
  {
   "cell_type": "code",
   "execution_count": 3,
   "metadata": {},
   "outputs": [
    {
     "data": {
      "text/plain": [
       "[1,\n",
       " 11,\n",
       " 21,\n",
       " 31,\n",
       " 41,\n",
       " 51,\n",
       " 61,\n",
       " 71,\n",
       " 81,\n",
       " 91,\n",
       " 101,\n",
       " 111,\n",
       " 121,\n",
       " 131,\n",
       " 141,\n",
       " 151,\n",
       " 161,\n",
       " 171,\n",
       " 181,\n",
       " 191,\n",
       " 201,\n",
       " 211,\n",
       " 221,\n",
       " 231,\n",
       " 241,\n",
       " 251,\n",
       " 261,\n",
       " 271,\n",
       " 281,\n",
       " 291,\n",
       " 301,\n",
       " 311,\n",
       " 321,\n",
       " 331,\n",
       " 341,\n",
       " 351,\n",
       " 361,\n",
       " 371,\n",
       " 381,\n",
       " 391,\n",
       " 401,\n",
       " 411,\n",
       " 421,\n",
       " 431,\n",
       " 441,\n",
       " 451,\n",
       " 461,\n",
       " 471,\n",
       " 481,\n",
       " 491,\n",
       " 501,\n",
       " 511,\n",
       " 521,\n",
       " 531,\n",
       " 541,\n",
       " 551,\n",
       " 561,\n",
       " 571,\n",
       " 581,\n",
       " 591,\n",
       " 601,\n",
       " 611,\n",
       " 621,\n",
       " 631,\n",
       " 641,\n",
       " 651,\n",
       " 661,\n",
       " 671,\n",
       " 681,\n",
       " 691,\n",
       " 701,\n",
       " 711,\n",
       " 721,\n",
       " 731,\n",
       " 741,\n",
       " 751,\n",
       " 761,\n",
       " 771,\n",
       " 781,\n",
       " 791,\n",
       " 801,\n",
       " 811,\n",
       " 821,\n",
       " 831,\n",
       " 841,\n",
       " 851,\n",
       " 861,\n",
       " 871,\n",
       " 881,\n",
       " 891,\n",
       " 901,\n",
       " 911,\n",
       " 921,\n",
       " 931,\n",
       " 941,\n",
       " 951,\n",
       " 961,\n",
       " 971,\n",
       " 981,\n",
       " 991,\n",
       " 1001,\n",
       " 1011,\n",
       " 1021]"
      ]
     },
     "execution_count": 3,
     "metadata": {},
     "output_type": "execute_result"
    }
   ],
   "source": []
  },
  {
   "cell_type": "code",
   "execution_count": 12,
   "metadata": {},
   "outputs": [],
   "source": [
    "from option import *"
   ]
  },
  {
   "cell_type": "code",
   "execution_count": 14,
   "metadata": {},
   "outputs": [],
   "source": []
  },
  {
   "cell_type": "code",
   "execution_count": 20,
   "metadata": {},
   "outputs": [],
   "source": []
  },
  {
   "cell_type": "code",
   "execution_count": 21,
   "metadata": {},
   "outputs": [],
   "source": []
  },
  {
   "cell_type": "code",
   "execution_count": 29,
   "metadata": {},
   "outputs": [],
   "source": []
  },
  {
   "cell_type": "code",
   "execution_count": 30,
   "metadata": {},
   "outputs": [],
   "source": []
  },
  {
   "cell_type": "code",
   "execution_count": 54,
   "metadata": {},
   "outputs": [],
   "source": [
    "hyperparameters['index_type'] = args.index_type\n",
    "index_params = dict()\n",
    "search_params = dict()\n",
    "for b in build_keys:\n",
    "    index_params[b.replace(\"build_\",\"\")] = vars(args)[b]\n",
    "for s in search_keys:\n",
    "    search_params[s.replace(\"search_\",\"\")] = vars(args)[s]\n",
    "\n",
    "hyperparameters[\"index_params\"] = index_params\n",
    "hyperparameters[\"search_params\"] = search_params"
   ]
  },
  {
   "cell_type": "code",
   "execution_count": 55,
   "metadata": {},
   "outputs": [
    {
     "data": {
      "text/plain": [
       "{'index_type': 'IVF_FLAT',\n",
       " 'index_params': {'nprobe': 100},\n",
       " 'search_params': {'nlist': 100}}"
      ]
     },
     "execution_count": 55,
     "metadata": {},
     "output_type": "execute_result"
    }
   ],
   "source": [
    "hyperparameters"
   ]
  },
  {
   "cell_type": "code",
   "execution_count": 2,
   "metadata": {},
   "outputs": [],
   "source": [
    "import yaml"
   ]
  },
  {
   "cell_type": "code",
   "execution_count": 106,
   "metadata": {},
   "outputs": [
    {
     "name": "stdout",
     "output_type": "stream",
     "text": [
      "{'program': 'grid_search.py', 'method': 'grid', 'name': 'IVF_FLAT_search', 'metric': {'goal': 'minimize', 'name': 'loss'}, 'index_type': {'values': ['IVF_FLAT']}, 'parameters': {'index_params': {'nlist': {'values': 'range(1,1024,10)'}, 'ef': {'values': [1, 2]}}, 'search_params': {'nprobe': {'values': 'range(1,nlist,10)'}}}}\n"
     ]
    }
   ],
   "source": [
    "with open(\"./configs/search/HNSW.yaml\", 'r') as stream:\n",
    "    try:\n",
    "        config = yaml.safe_load(stream)\n",
    "        print(config)\n",
    "    except yaml.YAMLError as exc:\n",
    "        print(exc)"
   ]
  },
  {
   "cell_type": "code",
   "execution_count": 107,
   "metadata": {},
   "outputs": [
    {
     "data": {
      "text/plain": [
       "{'nlist': {'values': 'range(1,1024,10)'}, 'ef': {'values': [1, 2]}}"
      ]
     },
     "execution_count": 107,
     "metadata": {},
     "output_type": "execute_result"
    }
   ],
   "source": [
    "config['parameters']['index_params']"
   ]
  },
  {
   "cell_type": "code",
   "execution_count": 108,
   "metadata": {},
   "outputs": [],
   "source": [
    "def constuct_for_loop():\n",
    "    name = 'ef'\n",
    "    i = 'range(1,1024,10)'\n",
    "    s = 'for ' + name + ' in '+ i\n",
    "    print(s)\n",
    "    \n",
    "    "
   ]
  },
  {
   "cell_type": "code",
   "execution_count": 114,
   "metadata": {},
   "outputs": [],
   "source": [
    "for name in config['parameters']['index_params']:\n",
    "    r = config['parameters']['index_params'][name]['values']\n",
    "\n",
    "    if type(r) == 'str':\n",
    "        r = list(eval(r))\n",
    "    \n"
   ]
  },
  {
   "cell_type": "code",
   "execution_count": 95,
   "metadata": {},
   "outputs": [
    {
     "ename": "SyntaxError",
     "evalue": "invalid syntax (<string>, line 1)",
     "output_type": "error",
     "traceback": [
      "Traceback \u001b[0;36m(most recent call last)\u001b[0m:\n",
      "  File \u001b[1;32m\"/home/xiangpan/.conda/envs/pl/lib/python3.8/site-packages/IPython/core/interactiveshell.py\"\u001b[0m, line \u001b[1;32m3417\u001b[0m, in \u001b[1;35mrun_code\u001b[0m\n    exec(code_obj, self.user_global_ns, self.user_ns)\n",
      "\u001b[0;36m  File \u001b[0;32m\"<ipython-input-95-7e519f097454>\"\u001b[0;36m, line \u001b[0;32m4\u001b[0;36m, in \u001b[0;35m<module>\u001b[0;36m\u001b[0m\n\u001b[0;31m    eval(s)\u001b[0m\n",
      "\u001b[0;36m  File \u001b[0;32m\"<string>\"\u001b[0;36m, line \u001b[0;32m1\u001b[0m\n\u001b[0;31m    for ef in range(1,1024,10):\u001b[0m\n\u001b[0m    ^\u001b[0m\n\u001b[0;31mSyntaxError\u001b[0m\u001b[0;31m:\u001b[0m invalid syntax\n"
     ]
    }
   ],
   "source": [
    "name = 'ef'\n",
    "i = 'range(1,1024,10)'\n",
    "s = 'for ' + name + ' in '+ i + ':\\n print(1)'\n",
    "eval(s)"
   ]
  },
  {
   "cell_type": "code",
   "execution_count": 96,
   "metadata": {},
   "outputs": [
    {
     "data": {
      "text/plain": [
       "<str_iterator at 0x7f2004139700>"
      ]
     },
     "execution_count": 96,
     "metadata": {},
     "output_type": "execute_result"
    }
   ],
   "source": [
    "iter('abc')"
   ]
  },
  {
   "cell_type": "code",
   "execution_count": 98,
   "metadata": {},
   "outputs": [
    {
     "data": {
      "text/plain": [
       "[1,\n",
       " 11,\n",
       " 21,\n",
       " 31,\n",
       " 41,\n",
       " 51,\n",
       " 61,\n",
       " 71,\n",
       " 81,\n",
       " 91,\n",
       " 101,\n",
       " 111,\n",
       " 121,\n",
       " 131,\n",
       " 141,\n",
       " 151,\n",
       " 161,\n",
       " 171,\n",
       " 181,\n",
       " 191,\n",
       " 201,\n",
       " 211,\n",
       " 221,\n",
       " 231,\n",
       " 241,\n",
       " 251,\n",
       " 261,\n",
       " 271,\n",
       " 281,\n",
       " 291,\n",
       " 301,\n",
       " 311,\n",
       " 321,\n",
       " 331,\n",
       " 341,\n",
       " 351,\n",
       " 361,\n",
       " 371,\n",
       " 381,\n",
       " 391,\n",
       " 401,\n",
       " 411,\n",
       " 421,\n",
       " 431,\n",
       " 441,\n",
       " 451,\n",
       " 461,\n",
       " 471,\n",
       " 481,\n",
       " 491,\n",
       " 501,\n",
       " 511,\n",
       " 521,\n",
       " 531,\n",
       " 541,\n",
       " 551,\n",
       " 561,\n",
       " 571,\n",
       " 581,\n",
       " 591,\n",
       " 601,\n",
       " 611,\n",
       " 621,\n",
       " 631,\n",
       " 641,\n",
       " 651,\n",
       " 661,\n",
       " 671,\n",
       " 681,\n",
       " 691,\n",
       " 701,\n",
       " 711,\n",
       " 721,\n",
       " 731,\n",
       " 741,\n",
       " 751,\n",
       " 761,\n",
       " 771,\n",
       " 781,\n",
       " 791,\n",
       " 801,\n",
       " 811,\n",
       " 821,\n",
       " 831,\n",
       " 841,\n",
       " 851,\n",
       " 861,\n",
       " 871,\n",
       " 881,\n",
       " 891,\n",
       " 901,\n",
       " 911,\n",
       " 921,\n",
       " 931,\n",
       " 941,\n",
       " 951,\n",
       " 961,\n",
       " 971,\n",
       " 981,\n",
       " 991,\n",
       " 1001,\n",
       " 1011,\n",
       " 1021]"
      ]
     },
     "execution_count": 98,
     "metadata": {},
     "output_type": "execute_result"
    }
   ],
   "source": [
    "list(range(1,1024,10))"
   ]
  },
  {
   "cell_type": "code",
   "execution_count": 99,
   "metadata": {},
   "outputs": [
    {
     "ename": "TypeError",
     "evalue": "'type' object is not iterable",
     "output_type": "error",
     "traceback": [
      "\u001b[0;31m---------------------------------------------------------------------------\u001b[0m",
      "\u001b[0;31mTypeError\u001b[0m                                 Traceback (most recent call last)",
      "\u001b[0;32m<ipython-input-99-4edfe0227e71>\u001b[0m in \u001b[0;36m<module>\u001b[0;34m\u001b[0m\n\u001b[0;32m----> 1\u001b[0;31m \u001b[0mit\u001b[0m \u001b[0;34m=\u001b[0m \u001b[0miter\u001b[0m\u001b[0;34m(\u001b[0m\u001b[0mlist\u001b[0m\u001b[0;34m)\u001b[0m\u001b[0;34m\u001b[0m\u001b[0;34m\u001b[0m\u001b[0m\n\u001b[0m",
      "\u001b[0;31mTypeError\u001b[0m: 'type' object is not iterable"
     ]
    }
   ],
   "source": []
  },
  {
   "cell_type": "markdown",
   "metadata": {},
   "source": [
    "# Visualization"
   ]
  },
  {
   "cell_type": "markdown",
   "metadata": {},
   "source": [
    "## Load Data"
   ]
  },
  {
   "cell_type": "code",
   "execution_count": 20,
   "metadata": {},
   "outputs": [],
   "source": [
    "import pandas as pd"
   ]
  },
  {
   "cell_type": "code",
   "execution_count": 21,
   "metadata": {},
   "outputs": [],
   "source": [
    "df = pd.read_csv(\"./grid_search_results/IVF_FLAT.csv\")"
   ]
  },
  {
   "cell_type": "code",
   "execution_count": 22,
   "metadata": {},
   "outputs": [
    {
     "data": {
      "text/html": [
       "<div>\n",
       "<style scoped>\n",
       "    .dataframe tbody tr th:only-of-type {\n",
       "        vertical-align: middle;\n",
       "    }\n",
       "\n",
       "    .dataframe tbody tr th {\n",
       "        vertical-align: top;\n",
       "    }\n",
       "\n",
       "    .dataframe thead th {\n",
       "        text-align: right;\n",
       "    }\n",
       "</style>\n",
       "<table border=\"1\" class=\"dataframe\">\n",
       "  <thead>\n",
       "    <tr style=\"text-align: right;\">\n",
       "      <th></th>\n",
       "      <th>index_type</th>\n",
       "      <th>nlist</th>\n",
       "      <th>nprobe</th>\n",
       "      <th>recall</th>\n",
       "      <th>query_per_sec</th>\n",
       "      <th>loss</th>\n",
       "    </tr>\n",
       "  </thead>\n",
       "  <tbody>\n",
       "    <tr>\n",
       "      <th>0</th>\n",
       "      <td>IVF_FLAT</td>\n",
       "      <td>101</td>\n",
       "      <td>1</td>\n",
       "      <td>35.03</td>\n",
       "      <td>13865.926146</td>\n",
       "      <td>6.010866e+06</td>\n",
       "    </tr>\n",
       "    <tr>\n",
       "      <th>1</th>\n",
       "      <td>IVF_FLAT</td>\n",
       "      <td>201</td>\n",
       "      <td>1</td>\n",
       "      <td>27.33</td>\n",
       "      <td>14441.206445</td>\n",
       "      <td>6.781441e+06</td>\n",
       "    </tr>\n",
       "    <tr>\n",
       "      <th>2</th>\n",
       "      <td>IVF_FLAT</td>\n",
       "      <td>301</td>\n",
       "      <td>1</td>\n",
       "      <td>24.88</td>\n",
       "      <td>14846.042758</td>\n",
       "      <td>7.026846e+06</td>\n",
       "    </tr>\n",
       "    <tr>\n",
       "      <th>3</th>\n",
       "      <td>IVF_FLAT</td>\n",
       "      <td>401</td>\n",
       "      <td>1</td>\n",
       "      <td>24.88</td>\n",
       "      <td>14262.944197</td>\n",
       "      <td>7.026263e+06</td>\n",
       "    </tr>\n",
       "    <tr>\n",
       "      <th>4</th>\n",
       "      <td>IVF_FLAT</td>\n",
       "      <td>501</td>\n",
       "      <td>1</td>\n",
       "      <td>24.88</td>\n",
       "      <td>14554.964084</td>\n",
       "      <td>7.026555e+06</td>\n",
       "    </tr>\n",
       "    <tr>\n",
       "      <th>...</th>\n",
       "      <td>...</td>\n",
       "      <td>...</td>\n",
       "      <td>...</td>\n",
       "      <td>...</td>\n",
       "      <td>...</td>\n",
       "      <td>...</td>\n",
       "    </tr>\n",
       "    <tr>\n",
       "      <th>1406</th>\n",
       "      <td>IVF_FLAT</td>\n",
       "      <td>16301</td>\n",
       "      <td>1201</td>\n",
       "      <td>100.00</td>\n",
       "      <td>8154.888885</td>\n",
       "      <td>8.159889e+03</td>\n",
       "    </tr>\n",
       "    <tr>\n",
       "      <th>1407</th>\n",
       "      <td>IVF_FLAT</td>\n",
       "      <td>16301</td>\n",
       "      <td>1301</td>\n",
       "      <td>100.00</td>\n",
       "      <td>8929.941025</td>\n",
       "      <td>8.934941e+03</td>\n",
       "    </tr>\n",
       "    <tr>\n",
       "      <th>1408</th>\n",
       "      <td>IVF_FLAT</td>\n",
       "      <td>16301</td>\n",
       "      <td>1401</td>\n",
       "      <td>100.00</td>\n",
       "      <td>8343.054920</td>\n",
       "      <td>8.348055e+03</td>\n",
       "    </tr>\n",
       "    <tr>\n",
       "      <th>1409</th>\n",
       "      <td>IVF_FLAT</td>\n",
       "      <td>16301</td>\n",
       "      <td>1501</td>\n",
       "      <td>100.00</td>\n",
       "      <td>8468.551123</td>\n",
       "      <td>8.473551e+03</td>\n",
       "    </tr>\n",
       "    <tr>\n",
       "      <th>1410</th>\n",
       "      <td>IVF_FLAT</td>\n",
       "      <td>16301</td>\n",
       "      <td>1601</td>\n",
       "      <td>100.00</td>\n",
       "      <td>7962.306130</td>\n",
       "      <td>7.967306e+03</td>\n",
       "    </tr>\n",
       "  </tbody>\n",
       "</table>\n",
       "<p>1411 rows × 6 columns</p>\n",
       "</div>"
      ],
      "text/plain": [
       "     index_type   nlist   nprobe   recall   query_per_sec          loss\n",
       "0      IVF_FLAT     101        1    35.03    13865.926146  6.010866e+06\n",
       "1      IVF_FLAT     201        1    27.33    14441.206445  6.781441e+06\n",
       "2      IVF_FLAT     301        1    24.88    14846.042758  7.026846e+06\n",
       "3      IVF_FLAT     401        1    24.88    14262.944197  7.026263e+06\n",
       "4      IVF_FLAT     501        1    24.88    14554.964084  7.026555e+06\n",
       "...         ...     ...      ...      ...             ...           ...\n",
       "1406   IVF_FLAT   16301     1201   100.00     8154.888885  8.159889e+03\n",
       "1407   IVF_FLAT   16301     1301   100.00     8929.941025  8.934941e+03\n",
       "1408   IVF_FLAT   16301     1401   100.00     8343.054920  8.348055e+03\n",
       "1409   IVF_FLAT   16301     1501   100.00     8468.551123  8.473551e+03\n",
       "1410   IVF_FLAT   16301     1601   100.00     7962.306130  7.967306e+03\n",
       "\n",
       "[1411 rows x 6 columns]"
      ]
     },
     "execution_count": 22,
     "metadata": {},
     "output_type": "execute_result"
    }
   ],
   "source": [
    "df"
   ]
  },
  {
   "cell_type": "code",
   "execution_count": 23,
   "metadata": {},
   "outputs": [],
   "source": [
    "data = df.to_numpy()"
   ]
  },
  {
   "cell_type": "code",
   "execution_count": 24,
   "metadata": {},
   "outputs": [
    {
     "data": {
      "text/plain": [
       "(1411, 6)"
      ]
     },
     "execution_count": 24,
     "metadata": {},
     "output_type": "execute_result"
    }
   ],
   "source": [
    "data.shape"
   ]
  },
  {
   "cell_type": "code",
   "execution_count": 25,
   "metadata": {},
   "outputs": [
    {
     "name": "stderr",
     "output_type": "stream",
     "text": [
      "<ipython-input-25-2d78d8a94cfa>:14: MatplotlibDeprecationWarning: Axes3D(fig) adding itself to the figure is deprecated since 3.4. Pass the keyword argument auto_add_to_figure=False and use fig.add_axes(ax) to suppress this warning. The default value of auto_add_to_figure will change to False in mpl3.5 and True values will no longer work in 3.6.  This is consistent with other Axes classes.\n",
      "  ax = Axes3D(fig)\n"
     ]
    },
    {
     "data": {
      "image/png": "[encoded data removed]",
      "text/plain": [
       "<Figure size 432x288 with 1 Axes>"
      ]
     },
     "metadata": {
      "needs_background": "light"
     },
     "output_type": "display_data"
    }
   ],
   "source": [
    "\n",
    "import numpy as np\n",
    "import matplotlib.pyplot as plt\n",
    "from mpl_toolkits.mplot3d import Axes3D  \n",
    " \n",
    " \n",
    "# 数据\n",
    "x = data[:, 1]  \n",
    "y = data[:, 2]  \n",
    "z = data[:, -1]  \n",
    " \n",
    " \n",
    "# 绘制散点图\n",
    "fig = plt.figure()\n",
    "ax = Axes3D(fig)\n",
    "ax.scatter(x, y, z)\n",
    " \n",
    " \n",
    "# 添加坐标轴(顺序是Z, Y, X)\n",
    "ax.set_zlabel('Z', fontdict={'size': 15, 'color': 'red'})\n",
    "ax.set_ylabel('Y', fontdict={'size': 15, 'color': 'red'})\n",
    "ax.set_xlabel('X', fontdict={'size': 15, 'color': 'red'})\n",
    "plt.show()"
   ]
  },
  {
   "cell_type": "code",
   "execution_count": 1,
   "metadata": {},
   "outputs": [
    {
     "name": "stderr",
     "output_type": "stream",
     "text": [
      "<ipython-input-1-4b74946dc363>:32: MatplotlibDeprecationWarning: Axes3D(fig) adding itself to the figure is deprecated since 3.4. Pass the keyword argument auto_add_to_figure=False and use fig.add_axes(ax) to suppress this warning. The default value of auto_add_to_figure will change to False in mpl3.5 and True values will no longer work in 3.6.  This is consistent with other Axes classes.\n",
      "  ax = Axes3D(fig)\n",
      "/home/xiangpan/.conda/envs/pl/lib/python3.8/site-packages/matplotlib/backends/backend_agg.py:240: RuntimeWarning: Glyph 39034 missing from current font.\n",
      "  font.set_text(s, 0.0, flags=flags)\n",
      "/home/xiangpan/.conda/envs/pl/lib/python3.8/site-packages/matplotlib/backends/backend_agg.py:240: RuntimeWarning: Glyph 24207 missing from current font.\n",
      "  font.set_text(s, 0.0, flags=flags)\n",
      "/home/xiangpan/.conda/envs/pl/lib/python3.8/site-packages/matplotlib/backends/backend_agg.py:240: RuntimeWarning: Glyph 28857 missing from current font.\n",
      "  font.set_text(s, 0.0, flags=flags)\n",
      "/home/xiangpan/.conda/envs/pl/lib/python3.8/site-packages/matplotlib/backends/backend_agg.py:240: RuntimeWarning: Glyph 38543 missing from current font.\n",
      "  font.set_text(s, 0.0, flags=flags)\n",
      "/home/xiangpan/.conda/envs/pl/lib/python3.8/site-packages/matplotlib/backends/backend_agg.py:240: RuntimeWarning: Glyph 26426 missing from current font.\n",
      "  font.set_text(s, 0.0, flags=flags)\n",
      "/home/xiangpan/.conda/envs/pl/lib/python3.8/site-packages/matplotlib/backends/backend_agg.py:203: RuntimeWarning: Glyph 39034 missing from current font.\n",
      "  font.set_text(s, 0, flags=flags)\n",
      "/home/xiangpan/.conda/envs/pl/lib/python3.8/site-packages/matplotlib/backends/backend_agg.py:203: RuntimeWarning: Glyph 24207 missing from current font.\n",
      "  font.set_text(s, 0, flags=flags)\n",
      "/home/xiangpan/.conda/envs/pl/lib/python3.8/site-packages/matplotlib/backends/backend_agg.py:203: RuntimeWarning: Glyph 28857 missing from current font.\n",
      "  font.set_text(s, 0, flags=flags)\n",
      "/home/xiangpan/.conda/envs/pl/lib/python3.8/site-packages/matplotlib/backends/backend_agg.py:203: RuntimeWarning: Glyph 38543 missing from current font.\n",
      "  font.set_text(s, 0, flags=flags)\n",
      "/home/xiangpan/.conda/envs/pl/lib/python3.8/site-packages/matplotlib/backends/backend_agg.py:203: RuntimeWarning: Glyph 26426 missing from current font.\n",
      "  font.set_text(s, 0, flags=flags)\n"
     ]
    },
    {
     "data": {
      "image/png": "[encoded data removed]",
      "text/plain": [
       "<Figure size 432x288 with 1 Axes>"
      ]
     },
     "metadata": {
      "needs_background": "light"
     },
     "output_type": "display_data"
    }
   ],
   "source": [
    "import numpy as np\n",
    "import matplotlib.pyplot as plt\n",
    "from mpl_toolkits.mplot3d import Axes3D  # 空间三维画图\n",
    " \n",
    " \n",
    "# 数据\n",
    " \n",
    "# 数据１\n",
    "data1 = np.arange(24).reshape((8, 3))\n",
    "# data的值如下：\n",
    "# [[ 0  1  2]\n",
    "#  [ 3  4  5]\n",
    "#  [ 6  7  8]\n",
    "#  [ 9 10 11]\n",
    "#  [12 13 14]\n",
    "#  [15 16 17]\n",
    "#  [18 19 20]\n",
    "#  [21 22 23]]\n",
    "x1 = data1[:, 0]  # [ 0  3  6  9 12 15 18 21]\n",
    "y1 = data1[:, 1]  # [ 1  4  7 10 13 16 19 22]\n",
    "z1 = data1[:, 2]  # [ 2  5  8 11 14 17 20 23]\n",
    " \n",
    "# 数据２\n",
    "data2 = np.random.randint(0, 23, (6, 3))\n",
    "x2 = data2[:, 0]\n",
    "y2 = data2[:, 1]\n",
    "z2 = data2[:, 2]\n",
    " \n",
    " \n",
    "# 绘制散点图\n",
    "fig = plt.figure()\n",
    "ax = Axes3D(fig)\n",
    "ax.scatter(x1, y1, z1, c='r', label='顺序点')\n",
    "ax.scatter(x2, y2, z2, c='g', label='随机点')\n",
    " \n",
    " \n",
    "# 绘制图例\n",
    "ax.legend(loc='best')\n",
    " \n",
    " \n",
    "# 添加坐标轴(顺序是Z, Y, X)\n",
    "ax.set_zlabel('Z', fontdict={'size': 15, 'color': 'red'})\n",
    "ax.set_ylabel('Y', fontdict={'size': 15, 'color': 'red'})\n",
    "ax.set_xlabel('X', fontdict={'size': 15, 'color': 'red'})\n",
    " \n",
    " \n",
    "# 展示\n",
    "plt.show()"
   ]
  },
  {
   "cell_type": "code",
   "execution_count": null,
   "metadata": {},
   "outputs": [],
   "source": []
  }
 ],
 "metadata": {
  "interpreter": {
   "hash": "cf2ec9d24c5b4d380d0cd197842b67e48058931267f898b538935ef5f62959f2"
  },
  "kernelspec": {
   "display_name": "Python 3",
   "language": "python",
   "name": "python3"
  },
  "language_info": {
   "codemirror_mode": {
    "name": "ipython",
    "version": 3
   },
   "file_extension": ".py",
   "mimetype": "text/x-python",
   "name": "python",
   "nbconvert_exporter": "python",
   "pygments_lexer": "ipython3",
   "version": "3.8.10"
  }
 },
 "nbformat": 4,
 "nbformat_minor": 4
}

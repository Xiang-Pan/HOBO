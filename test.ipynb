{
 "cells": [
  {
   "cell_type": "code",
   "execution_count": 2,
   "metadata": {},
   "outputs": [],
   "source": [
    "import os\n",
    "import time\n",
    "#  \n",
    "import numpy as np\n",
    "import random\n",
    "from milvus import Milvus,MetricType, IndexType\n",
    "SERVER_ADDR = '127.0.0.1'\n",
    "SERVER_PORT = '19530'"
   ]
  },
  {
   "cell_type": "code",
   "execution_count": 3,
   "metadata": {},
   "outputs": [],
   "source": [
    "milvus = Milvus(host=SERVER_ADDR, port=SERVER_PORT)\n",
    "# create_milvus_collection(milvus)"
   ]
  },
  {
   "cell_type": "code",
   "execution_count": 4,
   "metadata": {},
   "outputs": [],
   "source": [
    "#  ➜ sudo docker run -d --name milvus_cpu_1.1.0 \\\n",
    "# -p 19530:19530 \\\n",
    "# -p 19121:19121 \\\n",
    "# -v /home/$USER/milvus/db:/var/lib/milvus/db \\\n",
    "# -v /home/$USER/milvus/conf:/var/lib/milvus/conf \\\n",
    "# -v /home/$USER/milvus/logs:/var/lib/milvus/logs \\\n",
    "# -v /home/$USER/milvus/wal:/var/lib/milvus/wal \\\n",
    "# milvusdb/milvus:1.1.0-cpu-d050721-5e559c"
   ]
  },
  {
   "cell_type": "code",
   "execution_count": 5,
   "metadata": {},
   "outputs": [],
   "source": [
    "host = '127.0.0.1'\n",
    "port = '19530'\n",
    "client = Milvus(host, port)"
   ]
  },
  {
   "cell_type": "code",
   "execution_count": 6,
   "metadata": {},
   "outputs": [
    {
     "data": {
      "text/plain": [
       "(Status(code=0, message='Show collections successfully!'), [])"
      ]
     },
     "execution_count": 6,
     "metadata": {},
     "output_type": "execute_result"
    }
   ],
   "source": [
    "client.list_collections()"
   ]
  },
  {
   "cell_type": "code",
   "execution_count": 7,
   "metadata": {},
   "outputs": [
    {
     "data": {
      "text/plain": [
       "Status(code=0, message='Create collection successfully!')"
      ]
     },
     "execution_count": 7,
     "metadata": {},
     "output_type": "execute_result"
    }
   ],
   "source": [
    "collection_name = 'demo_film_tutorial'\n",
    "collection_param = {\n",
    "    \"collection_name\": collection_name,\n",
    "    \"dimension\": 8,\n",
    "    \"index_file_size\": 2048,\n",
    "    \"metric_type\": MetricType.L2\n",
    "}\n",
    "client.create_collection(collection_param)"
   ]
  },
  {
   "cell_type": "code",
   "execution_count": null,
   "metadata": {},
   "outputs": [],
   "source": [
    "client.list_collections()"
   ]
  },
  {
   "cell_type": "code",
   "execution_count": null,
   "metadata": {},
   "outputs": [],
   "source": [
    "client.list_partitions(collection_name)"
   ]
  },
  {
   "cell_type": "code",
   "execution_count": null,
   "metadata": {},
   "outputs": [],
   "source": [
    "client.create_partition(collection_name, \"films\")"
   ]
  },
  {
   "cell_type": "code",
   "execution_count": null,
   "metadata": {},
   "outputs": [],
   "source": [
    "import random"
   ]
  },
  {
   "cell_type": "code",
   "execution_count": null,
   "metadata": {},
   "outputs": [],
   "source": [
    "film_A = [random.random() for _ in range(8)]"
   ]
  },
  {
   "cell_type": "code",
   "execution_count": null,
   "metadata": {},
   "outputs": [],
   "source": [
    "film_A"
   ]
  },
  {
   "cell_type": "code",
   "execution_count": null,
   "metadata": {},
   "outputs": [],
   "source": [
    "entity_ids = [0, 1, 2]\n",
    "entities = [[random.random() for _ in range(8)] for _ in range(3)]\n",
    "status, ids = client.insert(collection_name, entities, entity_ids)"
   ]
  },
  {
   "cell_type": "code",
   "execution_count": null,
   "metadata": {},
   "outputs": [],
   "source": [
    "status, results = client.search(collection_name, 2, [film_A])"
   ]
  },
  {
   "cell_type": "code",
   "execution_count": null,
   "metadata": {},
   "outputs": [],
   "source": [
    "results"
   ]
  },
  {
   "cell_type": "code",
   "execution_count": null,
   "metadata": {},
   "outputs": [],
   "source": [
    "ids"
   ]
  },
  {
   "cell_type": "code",
   "execution_count": null,
   "metadata": {},
   "outputs": [],
   "source": [
    "client.create_index(collection_name, IndexType.FLAT)"
   ]
  },
  {
   "cell_type": "code",
   "execution_count": null,
   "metadata": {},
   "outputs": [],
   "source": [
    "query_vectors = film_A"
   ]
  },
  {
   "cell_type": "code",
   "execution_count": null,
   "metadata": {},
   "outputs": [],
   "source": [
    "query_vectors = [[1,2,3,4,5,6,7,8]]"
   ]
  },
  {
   "cell_type": "code",
   "execution_count": null,
   "metadata": {},
   "outputs": [],
   "source": [
    "# FLAT\n",
    "client.search(collection_name,1,query_vectors)"
   ]
  },
  {
   "cell_type": "code",
   "execution_count": null,
   "metadata": {},
   "outputs": [],
   "source": [
    "status, info = client.get_collection_info(collection_name)"
   ]
  },
  {
   "cell_type": "code",
   "execution_count": null,
   "metadata": {},
   "outputs": [],
   "source": [
    "info"
   ]
  },
  {
   "cell_type": "code",
   "execution_count": null,
   "metadata": {},
   "outputs": [],
   "source": [
    "status, results = client.search(collection_name, 2, [film_A])"
   ]
  },
  {
   "cell_type": "code",
   "execution_count": null,
   "metadata": {},
   "outputs": [],
   "source": [
    "status"
   ]
  },
  {
   "cell_type": "code",
   "execution_count": null,
   "metadata": {},
   "outputs": [],
   "source": [
    "results"
   ]
  },
  {
   "cell_type": "code",
   "execution_count": 8,
   "metadata": {},
   "outputs": [],
   "source": [
    "from bohb import *"
   ]
  },
  {
   "cell_type": "code",
   "execution_count": 9,
   "metadata": {},
   "outputs": [
    {
     "name": "stdout",
     "output_type": "stream",
     "text": [
      "s_max: 3\n",
      "s: 0\n",
      "Budget: 10\n",
      "Loss: 10.187714031754279\n",
      "Configuration:\n",
      "   Name: alpha | Value: 0.01\n",
      "   Name: beta  | Value: 3\n",
      "\n",
      "s: 1\n",
      "Budget: 3.333333333333333\n",
      "Loss: 7.111111111111111\n",
      "Configuration:\n",
      "   Name: alpha | Value: 0.1\n",
      "   Name: beta  | Value: 1\n",
      "\n",
      "Budget: 10.0\n",
      "Loss: 3.9289682539682547\n",
      "Configuration:\n",
      "   Name: alpha | Value: 0.1\n",
      "   Name: beta  | Value: 1\n",
      "\n",
      "s: 2\n",
      "Budget: 1.1111111111111112\n",
      "Loss: 11.0\n",
      "Configuration:\n",
      "   Name: alpha | Value: 0.01\n",
      "   Name: beta  | Value: 1\n",
      "\n",
      "Budget: 3.3333333333333335\n",
      "Loss: 7.111111111111111\n",
      "Configuration:\n",
      "   Name: alpha | Value: 0.1\n",
      "   Name: beta  | Value: 1\n",
      "\n",
      "Budget: 10.0\n",
      "Loss: 3.9289682539682547\n",
      "Configuration:\n",
      "   Name: alpha | Value: 0.1\n",
      "   Name: beta  | Value: 1\n",
      "\n",
      "Best Hyperparameter Configuration:\n",
      "Budget: 10.0\n",
      "Loss: 3.9289682539682547\n",
      "Configuration:\n",
      "   Name: alpha | Value: 0.1\n",
      "   Name: beta  | Value: 1\n",
      "\n"
     ]
    }
   ],
   "source": [
    "from bohb import BOHB\n",
    "import bohb.configspace as cs\n",
    "\n",
    "\n",
    "def objective(step, alpha, beta):\n",
    "    return 1 / (alpha * step + 0.1) + beta\n",
    "\n",
    "\n",
    "def evaluate(params, n_iterations):\n",
    "    loss = 0.0\n",
    "    for i in range(int(n_iterations)):\n",
    "        loss += objective(**params, step=i)\n",
    "    return loss/n_iterations\n",
    "\n",
    "\n",
    "alpha = cs.CategoricalHyperparameter('alpha', [0.001, 0.01, 0.1])\n",
    "beta = cs.CategoricalHyperparameter('beta', [1, 2, 3])\n",
    "configspace = cs.ConfigurationSpace([alpha, beta], seed=123)\n",
    "\n",
    "opt = BOHB(configspace, evaluate, max_budget=10, min_budget=1)\n",
    "logs = opt.optimize()\n",
    "print(logs)\n"
   ]
  },
  {
   "cell_type": "code",
   "execution_count": 12,
   "metadata": {
    "scrolled": true
   },
   "outputs": [
    {
     "name": "stdout",
     "output_type": "stream",
     "text": [
      "/home/xiangpan/Labs/HOBO\r\n"
     ]
    }
   ],
   "source": [
    "!pwd"
   ]
  },
  {
   "cell_type": "code",
   "execution_count": null,
   "metadata": {},
   "outputs": [],
   "source": []
  },
  {
   "cell_type": "code",
   "execution_count": 91,
   "metadata": {},
   "outputs": [],
   "source": [
    "import numpy as np\n",
    "fv = numpy.fromfile(\"./cached_datasets/siftsmall/siftsmall_base.fvecs\", dtype=\"int32\")\n",
    "dim = fv.view(numpy.int32)[0]\n",
    "new = fv.reshape(-1, dim + 1)[:,1:] # reshapes file\n",
    "f_new = new.view(numpy.float32)\n",
    "np.save(\"./cached_datasets/siftsmall_numpy/siftsmall_base\",f_new)"
   ]
  },
  {
   "cell_type": "code",
   "execution_count": 93,
   "metadata": {},
   "outputs": [
    {
     "data": {
      "text/plain": [
       "array([[ 0., 16., 35., ..., 25., 23.,  1.],\n",
       "       [14., 35., 19., ..., 11., 21., 33.],\n",
       "       [ 0.,  1.,  5., ...,  4., 23., 10.],\n",
       "       ...,\n",
       "       [48.,  1.,  0., ..., 22., 62., 18.],\n",
       "       [ 0.,  0.,  0., ...,  3.,  3., 11.],\n",
       "       [14.,  2.,  0., ...,  0.,  0.,  7.]], dtype=float32)"
      ]
     },
     "execution_count": 93,
     "metadata": {},
     "output_type": "execute_result"
    }
   ],
   "source": [
    "f_new"
   ]
  },
  {
   "cell_type": "code",
   "execution_count": 70,
   "metadata": {},
   "outputs": [],
   "source": [
    "import numpy as np\n",
    "fv = numpy.fromfile(\"./cached_datasets/siftsmall/siftsmall_groundtruth.ivecs\", dtype=\"int32\")\n",
    "# dim = fv.view(numpy.int32)[0]\n",
    "dim = 100\n",
    "f_new = fv.reshape(-1, dim + 1)[:,1:] # reshapes file\n",
    "# f_new = new.view(numpy.float32)\n",
    "np.save(\"./cached_datasets/siftsmall_numpy/siftsmall_groundtruth\",f_new)"
   ]
  },
  {
   "cell_type": "code",
   "execution_count": 60,
   "metadata": {},
   "outputs": [],
   "source": [
    "fv = numpy.fromfile(\"./cached_datasets/siftsmall/siftsmall_groundtruth.ivecs\", dtype=\"int32\")"
   ]
  },
  {
   "cell_type": "code",
   "execution_count": 71,
   "metadata": {},
   "outputs": [
    {
     "data": {
      "text/plain": [
       "array([[2176, 3752,  882, ...,  348, 3043, 3687],\n",
       "       [2781, 9574, 2492, ..., 3849, 2905, 4102],\n",
       "       [2707, 9938, 2698, ..., 1251, 8564, 8173],\n",
       "       ...,\n",
       "       [8825, 9081, 6142, ..., 8178, 5887, 4565],\n",
       "       [5460, 5439, 5810, ..., 5199, 7483, 5232],\n",
       "       [8082, 8782, 4767, ...,   11, 2482, 3631]], dtype=int32)"
      ]
     },
     "execution_count": 71,
     "metadata": {},
     "output_type": "execute_result"
    }
   ],
   "source": [
    "new"
   ]
  },
  {
   "cell_type": "code",
   "execution_count": 29,
   "metadata": {},
   "outputs": [],
   "source": [
    "import numpy as np\n",
    "fv = numpy.fromfile(\"./cached_datasets/siftsmall/siftsmall_learn.fvecs\", dtype=\"int32\")\n",
    "dim = fv.view(numpy.int32)[0]\n",
    "new = fv.reshape(-1, dim + 1)[:,1:] # reshapes file\n",
    "f_new = new.view(numpy.float32)\n",
    "np.save(\"./cached_datasets/siftsmall_numpy/siftsmall_learn\",f_new)"
   ]
  },
  {
   "cell_type": "code",
   "execution_count": 94,
   "metadata": {},
   "outputs": [],
   "source": [
    "import numpy as np\n",
    "fv = numpy.fromfile(\"./cached_datasets/siftsmall/siftsmall_query.fvecs\", dtype=\"int32\")\n",
    "dim = fv.view(numpy.int32)[0]\n",
    "new = fv.reshape(-1, dim + 1)[:,1:] # reshapes file\n",
    "f_new = new.view(numpy.float32)\n",
    "np.save(\"./cached_datasets/siftsmall_numpy/siftsmall_query\",f_new)"
   ]
  },
  {
   "cell_type": "code",
   "execution_count": 96,
   "metadata": {},
   "outputs": [
    {
     "data": {
      "text/plain": [
       "array([[ 1.,  3., 11., ..., 42., 48., 11.],\n",
       "       [40., 25., 11., ...,  3., 19., 13.],\n",
       "       [28.,  4.,  3., ...,  2., 54., 47.],\n",
       "       ...,\n",
       "       [14.,  8.,  0., ..., 32., 14., 15.],\n",
       "       [11., 48., 10., ...,  0.,  0.,  0.],\n",
       "       [ 4., 10.,  5., ..., 43.,  0.,  8.]], dtype=float32)"
      ]
     },
     "execution_count": 96,
     "metadata": {},
     "output_type": "execute_result"
    }
   ],
   "source": [
    "f_new"
   ]
  },
  {
   "cell_type": "code",
   "execution_count": 72,
   "metadata": {},
   "outputs": [
    {
     "ename": "NameError",
     "evalue": "name 'docker' is not defined",
     "output_type": "error",
     "traceback": [
      "\u001b[0;31m---------------------------------------------------------------------------\u001b[0m",
      "\u001b[0;31mNameError\u001b[0m                                 Traceback (most recent call last)",
      "\u001b[0;32m<ipython-input-72-9ee0b3f7e34f>\u001b[0m in \u001b[0;36m<module>\u001b[0;34m\u001b[0m\n\u001b[0;32m----> 1\u001b[0;31m \u001b[0mdocker\u001b[0m\u001b[0;34m\u001b[0m\u001b[0;34m\u001b[0m\u001b[0m\n\u001b[0m",
      "\u001b[0;31mNameError\u001b[0m: name 'docker' is not defined"
     ]
    }
   ],
   "source": [
    "docker"
   ]
  },
  {
   "cell_type": "markdown",
   "metadata": {},
   "source": [
    "# Connection"
   ]
  },
  {
   "cell_type": "code",
   "execution_count": 76,
   "metadata": {},
   "outputs": [],
   "source": [
    "import os\n",
    "import time\n",
    "#  \n",
    "import numpy as np\n",
    "import random\n",
    "from milvus import Milvus,MetricType, IndexType\n",
    "SERVER_ADDR = '127.0.0.1'\n",
    "SERVER_PORT = '19530'\n",
    "\n",
    "host = '127.0.0.1'\n",
    "port = '19530'\n",
    "client = Milvus(host, port)"
   ]
  },
  {
   "cell_type": "code",
   "execution_count": 77,
   "metadata": {},
   "outputs": [
    {
     "data": {
      "text/plain": [
       "Status(code=0, message='Create collection successfully!')"
      ]
     },
     "execution_count": 77,
     "metadata": {},
     "output_type": "execute_result"
    }
   ],
   "source": [
    "collection_name = 'siftsmall'\n",
    "collection_param = {\n",
    "    \"collection_name\": collection_name,\n",
    "    \"dimension\": 128,\n",
    "#     \"index_file_size\": 2048,\n",
    "    \"metric_type\": MetricType.L2\n",
    "}\n",
    "client.create_collection(collection_param)"
   ]
  },
  {
   "cell_type": "code",
   "execution_count": 78,
   "metadata": {},
   "outputs": [
    {
     "data": {
      "text/plain": [
       "(Status(code=0, message='Show collections successfully!'),\n",
       " ['demo_film_tutorial', 'siftsmall'])"
      ]
     },
     "execution_count": 78,
     "metadata": {},
     "output_type": "execute_result"
    }
   ],
   "source": [
    "client.list_collections()"
   ]
  },
  {
   "cell_type": "markdown",
   "metadata": {},
   "source": [
    "# insert base into db"
   ]
  },
  {
   "cell_type": "code",
   "execution_count": 231,
   "metadata": {},
   "outputs": [],
   "source": [
    "siftsmall_base = np.load(\"./cached_datasets/siftsmall_numpy/siftsmall_base.npy\")"
   ]
  },
  {
   "cell_type": "code",
   "execution_count": 232,
   "metadata": {},
   "outputs": [
    {
     "data": {
      "text/plain": [
       "(10000, 128)"
      ]
     },
     "execution_count": 232,
     "metadata": {},
     "output_type": "execute_result"
    }
   ],
   "source": [
    "siftsmall_base.shape"
   ]
  },
  {
   "cell_type": "code",
   "execution_count": 233,
   "metadata": {},
   "outputs": [],
   "source": [
    "entity_ids = [i for i in range(len(siftsmall_base))]\n",
    "entities = siftsmall_base"
   ]
  },
  {
   "cell_type": "code",
   "execution_count": 234,
   "metadata": {},
   "outputs": [],
   "source": [
    "status, ids = client.insert(collection_name, entities, entity_ids)"
   ]
  },
  {
   "cell_type": "markdown",
   "metadata": {},
   "source": [
    "# index build"
   ]
  },
  {
   "cell_type": "code",
   "execution_count": 246,
   "metadata": {},
   "outputs": [
    {
     "data": {
      "text/plain": [
       "Status(code=0, message='Build index successfully!')"
      ]
     },
     "execution_count": 246,
     "metadata": {},
     "output_type": "execute_result"
    }
   ],
   "source": [
    "client.create_index(collection_name, IndexType.IVF_FLAT, {\"nlist\": 100})\n",
    "# int. 1~65536"
   ]
  },
  {
   "cell_type": "markdown",
   "metadata": {},
   "source": [
    "# search query"
   ]
  },
  {
   "cell_type": "markdown",
   "metadata": {},
   "source": [
    "## get_query "
   ]
  },
  {
   "cell_type": "code",
   "execution_count": 263,
   "metadata": {},
   "outputs": [],
   "source": [
    "siftsmall_query = np.load(\"./cached_datasets/siftsmall_numpy/siftsmall_query.npy\")\n",
    "query_vectors = siftsmall_query"
   ]
  },
  {
   "cell_type": "code",
   "execution_count": 264,
   "metadata": {},
   "outputs": [],
   "source": [
    "statue, res = client.search(collection_name, top_k = 100, query_records = query_vectors, params={\"nprobe\": 1 })\n",
    "# int. 1~nlist(cpu), 1~min[2048, nlist](gpu)"
   ]
  },
  {
   "cell_type": "code",
   "execution_count": 265,
   "metadata": {},
   "outputs": [
    {
     "data": {
      "text/plain": [
       "(100, 100)"
      ]
     },
     "execution_count": 265,
     "metadata": {},
     "output_type": "execute_result"
    }
   ],
   "source": [
    "res.shape"
   ]
  },
  {
   "cell_type": "markdown",
   "metadata": {},
   "source": [
    "## result_convert"
   ]
  },
  {
   "cell_type": "code",
   "execution_count": 266,
   "metadata": {},
   "outputs": [],
   "source": [
    "converted_res = np.zeros(res.shape)"
   ]
  },
  {
   "cell_type": "code",
   "execution_count": 267,
   "metadata": {},
   "outputs": [],
   "source": [
    "for i in range(len(res)):\n",
    "    for j in range(len(res[i])):\n",
    "#         print(i,j,res[i][j].id)\n",
    "        converted_res[i][j] = res[i][j].id"
   ]
  },
  {
   "cell_type": "markdown",
   "metadata": {},
   "source": [
    "## get_groundtruth"
   ]
  },
  {
   "cell_type": "code",
   "execution_count": 268,
   "metadata": {},
   "outputs": [
    {
     "data": {
      "text/plain": [
       "(100, 100)"
      ]
     },
     "execution_count": 268,
     "metadata": {},
     "output_type": "execute_result"
    }
   ],
   "source": [
    "siftsmall_groundtruth = np.load(\"./cached_datasets/siftsmall_numpy/siftsmall_groundtruth.npy\")\n",
    "siftsmall_groundtruth.shape\n",
    "# query_vectors = siftsmall_query"
   ]
  },
  {
   "cell_type": "code",
   "execution_count": 269,
   "metadata": {},
   "outputs": [
    {
     "data": {
      "text/plain": [
       "(100, 100)"
      ]
     },
     "execution_count": 269,
     "metadata": {},
     "output_type": "execute_result"
    }
   ],
   "source": [
    "converted_res.shape"
   ]
  },
  {
   "cell_type": "markdown",
   "metadata": {},
   "source": [
    "# recall"
   ]
  },
  {
   "cell_type": "code",
   "execution_count": 281,
   "metadata": {},
   "outputs": [],
   "source": []
  },
  {
   "cell_type": "code",
   "execution_count": 254,
   "metadata": {},
   "outputs": [
    {
     "data": {
      "text/plain": [
       "tensor(1.)"
      ]
     },
     "execution_count": 254,
     "metadata": {},
     "output_type": "execute_result"
    }
   ],
   "source": [
    "from torchmetrics import RetrievalRecall\n",
    "# import torch.tensor as tensor\n",
    "indexes = torch.tensor([0, 0, 0, 1, 1, 1, 1])\n",
    "preds = torch.tensor([0.2, 0.3, 0.5, 0.1, 0.3, 0.5, 0.2])\n",
    "target = torch.tensor([False, False, True, False, True, False, True])\n",
    "r2 = RetrievalRecall(k=100)\n",
    "r2(preds, target, indexes=indexes)\n"
   ]
  },
  {
   "cell_type": "code",
   "execution_count": 270,
   "metadata": {},
   "outputs": [],
   "source": [
    "preds = converted_res"
   ]
  },
  {
   "cell_type": "code",
   "execution_count": 271,
   "metadata": {},
   "outputs": [],
   "source": [
    "target = siftsmall_groundtruth"
   ]
  },
  {
   "cell_type": "code",
   "execution_count": 272,
   "metadata": {},
   "outputs": [
    {
     "data": {
      "text/plain": [
       "array([[2176., 3752.,  882., ..., 1699.,  270.,  479.],\n",
       "       [3136., 1038., 3998., ..., 1401., 6138., 3289.],\n",
       "       [2707., 6801., 5171., ..., 6065., 2876., 6909.],\n",
       "       ...,\n",
       "       [6142., 6234., 7467., ...,    0.,    0.,    0.],\n",
       "       [5460., 5439., 5810., ..., 7876., 6354., 5360.],\n",
       "       [8082., 8782., 4767., ...,    0.,    0.,    0.]])"
      ]
     },
     "execution_count": 272,
     "metadata": {},
     "output_type": "execute_result"
    }
   ],
   "source": [
    "preds"
   ]
  },
  {
   "cell_type": "code",
   "execution_count": 275,
   "metadata": {},
   "outputs": [],
   "source": []
  },
  {
   "cell_type": "code",
   "execution_count": 262,
   "metadata": {},
   "outputs": [],
   "source": []
  },
  {
   "cell_type": "code",
   "execution_count": 278,
   "metadata": {},
   "outputs": [],
   "source": []
  },
  {
   "cell_type": "code",
   "execution_count": 279,
   "metadata": {},
   "outputs": [
    {
     "data": {
      "text/plain": [
       "34.26"
      ]
     },
     "execution_count": 279,
     "metadata": {},
     "output_type": "execute_result"
    }
   ],
   "source": [
    "recall_total"
   ]
  },
  {
   "cell_type": "code",
   "execution_count": null,
   "metadata": {},
   "outputs": [],
   "source": []
  }
 ],
 "metadata": {
  "kernelspec": {
   "display_name": "Python 3",
   "language": "python",
   "name": "python3"
  },
  "language_info": {
   "codemirror_mode": {
    "name": "ipython",
    "version": 3
   },
   "file_extension": ".py",
   "mimetype": "text/x-python",
   "name": "python",
   "nbconvert_exporter": "python",
   "pygments_lexer": "ipython3",
   "version": "3.8.10"
  }
 },
 "nbformat": 4,
 "nbformat_minor": 4
}
